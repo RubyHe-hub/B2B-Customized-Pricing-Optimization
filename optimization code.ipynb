{
  "nbformat": 4,
  "nbformat_minor": 0,
  "metadata": {
    "kernelspec": {
      "display_name": "Python 3",
      "language": "python",
      "name": "python3"
    },
    "language_info": {
      "codemirror_mode": {
        "name": "ipython",
        "version": 3
      },
      "file_extension": ".py",
      "mimetype": "text/x-python",
      "name": "python",
      "nbconvert_exporter": "python",
      "pygments_lexer": "ipython3",
      "version": "3.7.3"
    },
    "toc": {
      "base_numbering": 1,
      "nav_menu": {},
      "number_sections": true,
      "sideBar": true,
      "skip_h1_title": false,
      "title_cell": "Table of Contents",
      "title_sidebar": "Contents",
      "toc_cell": false,
      "toc_position": {},
      "toc_section_display": true,
      "toc_window_display": false
    },
    "varInspector": {
      "cols": {
        "lenName": 16,
        "lenType": 16,
        "lenVar": 40
      },
      "kernels_config": {
        "python": {
          "delete_cmd_postfix": "",
          "delete_cmd_prefix": "del ",
          "library": "var_list.py",
          "varRefreshCmd": "print(var_dic_list())"
        },
        "r": {
          "delete_cmd_postfix": ") ",
          "delete_cmd_prefix": "rm(",
          "library": "var_list.r",
          "varRefreshCmd": "cat(var_dic_list()) "
        }
      },
      "types_to_exclude": [
        "module",
        "function",
        "builtin_function_or_method",
        "instance",
        "_Feature"
      ],
      "window_display": false
    },
    "colab": {
      "name": "HW_B.ipynb",
      "provenance": []
    }
  },
  "cells": [
    {
      "cell_type": "code",
      "metadata": {
        "id": "Q1zshl3ksBS9",
        "colab_type": "code",
        "colab": {}
      },
      "source": [
        "import pandas as pd\n",
        "import seaborn as sns\n",
        "import matplotlib.pyplot as plt\n",
        "import scipy\n",
        "import statsmodels.api as sm\n",
        "from sklearn.linear_model import LogisticRegression\n",
        "import seaborn as sns\n",
        "from sklearn import metrics\n",
        "from sklearn.metrics import confusion_matrix\n",
        "from sklearn.metrics import classification_report\n",
        "from collections import Counter\n",
        "import numpy as np\n",
        "from scipy.optimize import minimize_scalar"
      ],
      "execution_count": 0,
      "outputs": []
    },
    {
      "cell_type": "code",
      "metadata": {
        "id": "WUoGDEQPsBTT",
        "colab_type": "code",
        "outputId": "1937de41-5ee1-47a0-f487-818cf5a930a2",
        "colab": {
          "base_uri": "https://localhost:8080/",
          "height": 197
        }
      },
      "source": [
        "df= pd.read_csv('https://raw.githubusercontent.com/ormarketing/b2b/master/data.csv')\n",
        "df.head()"
      ],
      "execution_count": 412,
      "outputs": [
        {
          "output_type": "execute_result",
          "data": {
            "text/html": [
              "<div>\n",
              "<style scoped>\n",
              "    .dataframe tbody tr th:only-of-type {\n",
              "        vertical-align: middle;\n",
              "    }\n",
              "\n",
              "    .dataframe tbody tr th {\n",
              "        vertical-align: top;\n",
              "    }\n",
              "\n",
              "    .dataframe thead th {\n",
              "        text-align: right;\n",
              "    }\n",
              "</style>\n",
              "<table border=\"1\" class=\"dataframe\">\n",
              "  <thead>\n",
              "    <tr style=\"text-align: right;\">\n",
              "      <th></th>\n",
              "      <th>ID</th>\n",
              "      <th>Close Date</th>\n",
              "      <th>Created Date</th>\n",
              "      <th>New Logo</th>\n",
              "      <th>Type</th>\n",
              "      <th>Stage</th>\n",
              "      <th>Billing Plan</th>\n",
              "      <th>ACV</th>\n",
              "      <th>Discount Amount</th>\n",
              "      <th>Amount</th>\n",
              "      <th>Net Amount</th>\n",
              "    </tr>\n",
              "  </thead>\n",
              "  <tbody>\n",
              "    <tr>\n",
              "      <th>0</th>\n",
              "      <td>1</td>\n",
              "      <td>5/26/17</td>\n",
              "      <td>5/4/17</td>\n",
              "      <td>1</td>\n",
              "      <td>Direct - Cloud Product</td>\n",
              "      <td>Closed Lost</td>\n",
              "      <td>3 Years</td>\n",
              "      <td>431370</td>\n",
              "      <td></td>\n",
              "      <td>225000</td>\n",
              "      <td>225000</td>\n",
              "    </tr>\n",
              "    <tr>\n",
              "      <th>1</th>\n",
              "      <td>2</td>\n",
              "      <td>12/29/16</td>\n",
              "      <td>11/29/16</td>\n",
              "      <td>1</td>\n",
              "      <td>Partner - OnPremise Product</td>\n",
              "      <td>Closed Won - Paid</td>\n",
              "      <td>3 Years</td>\n",
              "      <td>22050</td>\n",
              "      <td>80850</td>\n",
              "      <td>147000</td>\n",
              "      <td>66150</td>\n",
              "    </tr>\n",
              "    <tr>\n",
              "      <th>2</th>\n",
              "      <td>3</td>\n",
              "      <td>12/29/16</td>\n",
              "      <td>12/9/16</td>\n",
              "      <td>1</td>\n",
              "      <td>Partner - Cloud Product</td>\n",
              "      <td>Closed Won - Paid</td>\n",
              "      <td>3 Years</td>\n",
              "      <td>32750</td>\n",
              "      <td>43200</td>\n",
              "      <td>96000</td>\n",
              "      <td>52800</td>\n",
              "    </tr>\n",
              "    <tr>\n",
              "      <th>3</th>\n",
              "      <td>4</td>\n",
              "      <td>9/9/16</td>\n",
              "      <td>4/20/16</td>\n",
              "      <td>1</td>\n",
              "      <td>Direct - Cloud Product</td>\n",
              "      <td>Closed Won - Paid</td>\n",
              "      <td>4 Years</td>\n",
              "      <td>36694</td>\n",
              "      <td>44800</td>\n",
              "      <td>128000</td>\n",
              "      <td>83200</td>\n",
              "    </tr>\n",
              "    <tr>\n",
              "      <th>4</th>\n",
              "      <td>5</td>\n",
              "      <td>9/22/16</td>\n",
              "      <td>9/1/16</td>\n",
              "      <td>1</td>\n",
              "      <td>Partner - OnPremise Product</td>\n",
              "      <td>Closed Won - Paid</td>\n",
              "      <td>3 Years</td>\n",
              "      <td>18700</td>\n",
              "      <td>9900</td>\n",
              "      <td>66000</td>\n",
              "      <td>56100</td>\n",
              "    </tr>\n",
              "  </tbody>\n",
              "</table>\n",
              "</div>"
            ],
            "text/plain": [
              "   ID Close Date Created Date  ...   Discount Amount   Amount   Net Amount \n",
              "0   1    5/26/17       5/4/17  ...                      225000       225000\n",
              "1   2   12/29/16     11/29/16  ...              80850   147000        66150\n",
              "2   3   12/29/16      12/9/16  ...              43200    96000        52800\n",
              "3   4     9/9/16      4/20/16  ...              44800   128000        83200\n",
              "4   5    9/22/16       9/1/16  ...               9900    66000        56100\n",
              "\n",
              "[5 rows x 11 columns]"
            ]
          },
          "metadata": {
            "tags": []
          },
          "execution_count": 412
        }
      ]
    },
    {
      "cell_type": "code",
      "metadata": {
        "id": "DoaMUniusBTf",
        "colab_type": "code",
        "outputId": "6ca66751-2a49-453f-e21a-188f6865c505",
        "colab": {
          "base_uri": "https://localhost:8080/",
          "height": 230
        }
      },
      "source": [
        "df.dtypes"
      ],
      "execution_count": 413,
      "outputs": [
        {
          "output_type": "execute_result",
          "data": {
            "text/plain": [
              "ID                    int64\n",
              "Close Date           object\n",
              "Created Date         object\n",
              "New Logo              int64\n",
              "Type                 object\n",
              "Stage                object\n",
              "Billing Plan         object\n",
              " ACV                 object\n",
              " Discount Amount     object\n",
              " Amount              object\n",
              " Net Amount          object\n",
              "dtype: object"
            ]
          },
          "metadata": {
            "tags": []
          },
          "execution_count": 413
        }
      ]
    },
    {
      "cell_type": "markdown",
      "metadata": {
        "id": "UNy_0wD7sBTp",
        "colab_type": "text"
      },
      "source": [
        "# Clean & Explore Data"
      ]
    },
    {
      "cell_type": "markdown",
      "metadata": {
        "id": "RNfBZz0EsBTq",
        "colab_type": "text"
      },
      "source": [
        "## Convert Data Type "
      ]
    },
    {
      "cell_type": "code",
      "metadata": {
        "scrolled": true,
        "id": "tf9epYUVsBTr",
        "colab_type": "code",
        "outputId": "98f5538d-4886-41c5-c6dc-bd41be22f9ef",
        "colab": {
          "base_uri": "https://localhost:8080/",
          "height": 87
        }
      },
      "source": [
        "df.columns"
      ],
      "execution_count": 414,
      "outputs": [
        {
          "output_type": "execute_result",
          "data": {
            "text/plain": [
              "Index(['ID', 'Close Date', 'Created Date', 'New Logo', 'Type', 'Stage',\n",
              "       'Billing Plan', ' ACV ', ' Discount Amount ', ' Amount ',\n",
              "       ' Net Amount '],\n",
              "      dtype='object')"
            ]
          },
          "metadata": {
            "tags": []
          },
          "execution_count": 414
        }
      ]
    },
    {
      "cell_type": "code",
      "metadata": {
        "id": "jZ-JWLbwsBTx",
        "colab_type": "code",
        "colab": {}
      },
      "source": [
        "# to numeric\n",
        "df['amount']=pd.to_numeric(df[' Amount '],errors='coerce')\n",
        "df['net amount']=pd.to_numeric(df[' Net Amount '],errors='coerce')\n",
        "df['discount']=df['amount']-df['net amount']\n",
        "df['depth']=df['discount']/df['amount']"
      ],
      "execution_count": 0,
      "outputs": []
    },
    {
      "cell_type": "code",
      "metadata": {
        "id": "shMzuWO_sBT1",
        "colab_type": "code",
        "colab": {}
      },
      "source": [
        "# to date\n",
        "df['Close Date'] = pd.to_datetime(df['Close Date'])\n",
        "df['Created Date'] = pd.to_datetime(df['Created Date'])"
      ],
      "execution_count": 0,
      "outputs": []
    },
    {
      "cell_type": "code",
      "metadata": {
        "id": "TEPe8Hv9sBT6",
        "colab_type": "code",
        "outputId": "700f6b34-ba3d-4d15-f871-16b3ad2a661d",
        "colab": {
          "base_uri": "https://localhost:8080/",
          "height": 301
        }
      },
      "source": [
        "df.dtypes"
      ],
      "execution_count": 417,
      "outputs": [
        {
          "output_type": "execute_result",
          "data": {
            "text/plain": [
              "ID                            int64\n",
              "Close Date           datetime64[ns]\n",
              "Created Date         datetime64[ns]\n",
              "New Logo                      int64\n",
              "Type                         object\n",
              "Stage                        object\n",
              "Billing Plan                 object\n",
              " ACV                         object\n",
              " Discount Amount             object\n",
              " Amount                      object\n",
              " Net Amount                  object\n",
              "amount                      float64\n",
              "net amount                  float64\n",
              "discount                    float64\n",
              "depth                       float64\n",
              "dtype: object"
            ]
          },
          "metadata": {
            "tags": []
          },
          "execution_count": 417
        }
      ]
    },
    {
      "cell_type": "code",
      "metadata": {
        "id": "HLflIvDdsBUD",
        "colab_type": "code",
        "outputId": "05ffdded-1191-467d-8ef3-adaaf852e396",
        "colab": {
          "base_uri": "https://localhost:8080/",
          "height": 332
        }
      },
      "source": [
        "# Stage column \n",
        "df['Stage']=np.where(df['Stage'] =='Closed Lost', 'Lost', df['Stage'])\n",
        "df['Stage']=np.where(df['Stage'] =='Closed Won - Paid', 'Won', df['Stage'])\n",
        "df['Stage']=np.where(df['Stage'] =='Closed Won - Not Paid', 'Won', df['Stage'])\n",
        "df['Stage']=np.where(df['Stage'] =='Closed - Lost', 'Lost', df['Stage'])\n",
        "df['Stage']=np.where(df['Stage'] =='Closed Lost - Not Renewing', 'Lost', df['Stage'])\n",
        "sns.countplot(x='Stage',data=df)\n",
        "df['Stage'].value_counts()"
      ],
      "execution_count": 418,
      "outputs": [
        {
          "output_type": "execute_result",
          "data": {
            "text/plain": [
              "Lost    971\n",
              "Won     534\n",
              "Name: Stage, dtype: int64"
            ]
          },
          "metadata": {
            "tags": []
          },
          "execution_count": 418
        },
        {
          "output_type": "display_data",
          "data": {
            "image/png": "[encoded data removed]",
            "text/plain": [
              "<Figure size 432x288 with 1 Axes>"
            ]
          },
          "metadata": {
            "tags": [],
            "needs_background": "light"
          }
        }
      ]
    },
    {
      "cell_type": "markdown",
      "metadata": {
        "id": "5qcz72J0sBUG",
        "colab_type": "text"
      },
      "source": [
        "## Four Types relation with Conversion"
      ]
    },
    {
      "cell_type": "code",
      "metadata": {
        "id": "CiwNYACosBUH",
        "colab_type": "code",
        "outputId": "2a576106-ae8d-4985-9673-54a4e821aa60",
        "colab": {
          "base_uri": "https://localhost:8080/",
          "height": 516
        }
      },
      "source": [
        "ct = pd.crosstab(df.Type,df.Stage)\n",
        "print(ct)\n",
        "\n",
        "ct.plot.bar(stacked=True)\n",
        "plt.legend(title='mark')\n",
        "plt.show()"
      ],
      "execution_count": 419,
      "outputs": [
        {
          "output_type": "stream",
          "text": [
            "Stage                        Lost  Won\n",
            "Type                                  \n",
            "Direct - Cloud Product         46   22\n",
            "Direct - OnPremise Product    301   82\n",
            "Partner - Cloud Product       116  114\n",
            "Partner - OnPremise Product   508  316\n"
          ],
          "name": "stdout"
        },
        {
          "output_type": "display_data",
          "data": {
            "image/png": "[encoded data removed]",
            "text/plain": [
              "<Figure size 432x288 with 1 Axes>"
            ]
          },
          "metadata": {
            "tags": [],
            "needs_background": "light"
          }
        }
      ]
    },
    {
      "cell_type": "markdown",
      "metadata": {
        "id": "PUncQzt4sBUK",
        "colab_type": "text"
      },
      "source": [
        "Since Type[Direct - Cloud Product] has too small data size, we are unable to regress on only this type. So we decide to combine Types into either Partner vs. Direct or Partner vs. Direct, and then regress on each category. "
      ]
    },
    {
      "cell_type": "markdown",
      "metadata": {
        "id": "W8eV4yT4sBUL",
        "colab_type": "text"
      },
      "source": [
        "## Partner vs. Direct Types relation with Conversion"
      ]
    },
    {
      "cell_type": "code",
      "metadata": {
        "id": "hZBxmKlHsBUM",
        "colab_type": "code",
        "colab": {}
      },
      "source": [
        "df1 = df.copy()"
      ],
      "execution_count": 0,
      "outputs": []
    },
    {
      "cell_type": "code",
      "metadata": {
        "scrolled": true,
        "id": "-hagstEnsBUQ",
        "colab_type": "code",
        "colab": {}
      },
      "source": [
        "# Type as Partner vs. Direct\n",
        "df1['Type']=np.where(df1['Type'] == 'Partner - Cloud Product', 'Partner',df1['Type'])\n",
        "df1['Type']=np.where(df1['Type'] =='Partner - OnPremise Product', 'Partner',df1['Type'])\n",
        "df1['Type']=np.where(df1['Type'] =='Direct - OnPremise Product', 'Direct',df1['Type'])\n",
        "df1['Type']=np.where(df1['Type'] =='Direct - Cloud Product', 'Direct',df1['Type'])"
      ],
      "execution_count": 0,
      "outputs": []
    },
    {
      "cell_type": "code",
      "metadata": {
        "id": "M4iZgetnsBUV",
        "colab_type": "code",
        "outputId": "75c2b248-39c9-4537-f38b-a3d76f978da1",
        "colab": {
          "base_uri": "https://localhost:8080/",
          "height": 376
        }
      },
      "source": [
        "ct = pd.crosstab(df1['Type'],df1.Stage)\n",
        "print(ct)\n",
        "\n",
        "ct.plot.bar(stacked=True)\n",
        "plt.legend(title='mark')\n",
        "plt.show()"
      ],
      "execution_count": 422,
      "outputs": [
        {
          "output_type": "stream",
          "text": [
            "Stage    Lost  Won\n",
            "Type              \n",
            "Direct    347  104\n",
            "Partner   624  430\n"
          ],
          "name": "stdout"
        },
        {
          "output_type": "display_data",
          "data": {
            "image/png": "[encoded data removed]",
            "text/plain": [
              "<Figure size 432x288 with 1 Axes>"
            ]
          },
          "metadata": {
            "tags": [],
            "needs_background": "light"
          }
        }
      ]
    },
    {
      "cell_type": "code",
      "metadata": {
        "id": "mE0PZSgLsBUZ",
        "colab_type": "code",
        "outputId": "83300495-23f2-4b00-d4c1-259fa52d123e",
        "colab": {
          "base_uri": "https://localhost:8080/",
          "height": 34
        }
      },
      "source": [
        "# Use chi-square test to test if there is  significant relation between Partner vs. Direct Types relation with Conversion\n",
        "c, p, dof, expected = scipy.stats.chi2_contingency(ct)\n",
        "if p < 0.05:\n",
        "    result = \"Partner vs. Direct Types is reltated to Conversion\"\n",
        "else:\n",
        "    result =  \"Partner vs. Direct Types is NOT reltated to Conversion\"\n",
        "\n",
        "print(result)"
      ],
      "execution_count": 423,
      "outputs": [
        {
          "output_type": "stream",
          "text": [
            "Partner vs. Direct Types is reltated to Conversion\n"
          ],
          "name": "stdout"
        }
      ]
    },
    {
      "cell_type": "markdown",
      "metadata": {
        "id": "bnIfvj5NsBUc",
        "colab_type": "text"
      },
      "source": [
        "## Cloud vs. On-Prem Types relation with Conversion"
      ]
    },
    {
      "cell_type": "code",
      "metadata": {
        "id": "lffoXkKwsBUd",
        "colab_type": "code",
        "colab": {}
      },
      "source": [
        "df2 = df.copy()"
      ],
      "execution_count": 0,
      "outputs": []
    },
    {
      "cell_type": "code",
      "metadata": {
        "scrolled": true,
        "id": "ykgF5mPjsBUi",
        "colab_type": "code",
        "colab": {}
      },
      "source": [
        "# Type as Partner vs. Direct\n",
        "df2['Type']=np.where(df2['Type'] == 'Partner - Cloud Product', 'Cloud',df2['Type'])\n",
        "df2['Type']=np.where(df2['Type'] =='Partner - OnPremise Product', 'OnPremise',df2['Type'])\n",
        "df2['Type']=np.where(df2['Type'] =='Direct - OnPremise Product', 'OnPremise',df2['Type'])\n",
        "df2['Type']=np.where(df2['Type'] =='Direct - Cloud Product', 'Cloud',df2['Type'])"
      ],
      "execution_count": 0,
      "outputs": []
    },
    {
      "cell_type": "code",
      "metadata": {
        "id": "sDp5uh6xsBUm",
        "colab_type": "code",
        "outputId": "cea3288d-fdf8-4288-f030-360d4383e8fd",
        "colab": {
          "base_uri": "https://localhost:8080/",
          "height": 394
        }
      },
      "source": [
        "ct = pd.crosstab(df2['Type'],df2.Stage)\n",
        "print(ct)\n",
        "\n",
        "ct.plot.bar(stacked=True)\n",
        "plt.legend(title='mark')\n",
        "plt.show()"
      ],
      "execution_count": 426,
      "outputs": [
        {
          "output_type": "stream",
          "text": [
            "Stage      Lost  Won\n",
            "Type                \n",
            "Cloud       162  136\n",
            "OnPremise   809  398\n"
          ],
          "name": "stdout"
        },
        {
          "output_type": "display_data",
          "data": {
            "image/png": "[encoded data removed]",
            "text/plain": [
              "<Figure size 432x288 with 1 Axes>"
            ]
          },
          "metadata": {
            "tags": [],
            "needs_background": "light"
          }
        }
      ]
    },
    {
      "cell_type": "code",
      "metadata": {
        "id": "US17lGjAsBUp",
        "colab_type": "code",
        "outputId": "7fb5b473-fee9-48bf-b314-de8ee00c6cf6",
        "colab": {
          "base_uri": "https://localhost:8080/",
          "height": 34
        }
      },
      "source": [
        "# Use chi-square test to test if there is  significant relation between Cloud vs. On-Prem Types relation with Conversion\n",
        "c, p, dof, expected = scipy.stats.chi2_contingency(ct)\n",
        "if p < 0.05:\n",
        "    result = \"Cloud vs. On-Prem Types is reltated to Conversion\"\n",
        "else:\n",
        "    result =  \"Cloud vs. On-Prem Types is NOT reltated to Conversion\"\n",
        "\n",
        "print(result)"
      ],
      "execution_count": 427,
      "outputs": [
        {
          "output_type": "stream",
          "text": [
            "Cloud vs. On-Prem Types is reltated to Conversion\n"
          ],
          "name": "stdout"
        }
      ]
    },
    {
      "cell_type": "markdown",
      "metadata": {
        "id": "TBiDywZLsBUt",
        "colab_type": "text"
      },
      "source": [
        "## New Logo relation with Conversion"
      ]
    },
    {
      "cell_type": "code",
      "metadata": {
        "scrolled": true,
        "id": "lM2sQa1OsBUu",
        "colab_type": "code",
        "outputId": "19055e69-6a92-4b3e-f8a5-24cc72411663",
        "colab": {
          "base_uri": "https://localhost:8080/",
          "height": 346
        }
      },
      "source": [
        "ct = pd.crosstab(df['New Logo'],df.Stage)\n",
        "print(ct)\n",
        "\n",
        "ct.plot.bar(stacked=True)\n",
        "plt.legend(title='mark')\n",
        "plt.show()"
      ],
      "execution_count": 428,
      "outputs": [
        {
          "output_type": "stream",
          "text": [
            "Stage     Lost  Won\n",
            "New Logo           \n",
            "0          705   99\n",
            "1          266  435\n"
          ],
          "name": "stdout"
        },
        {
          "output_type": "display_data",
          "data": {
            "image/png": "[encoded data removed]",
            "text/plain": [
              "<Figure size 432x288 with 1 Axes>"
            ]
          },
          "metadata": {
            "tags": [],
            "needs_background": "light"
          }
        }
      ]
    },
    {
      "cell_type": "code",
      "metadata": {
        "id": "njGrMsd3sBUy",
        "colab_type": "code",
        "outputId": "4b01638d-9801-43aa-8408-a8a65e36f336",
        "colab": {
          "base_uri": "https://localhost:8080/",
          "height": 34
        }
      },
      "source": [
        "# Use chi-square test to test if there is  significant relation between New Logo vs. Not New relation with Conversion\n",
        "c, p, dof, expected = scipy.stats.chi2_contingency(ct)\n",
        "if p < 0.05:\n",
        "    result = \"New Logo vs. Not New  is reltated to Conversion\"\n",
        "else:\n",
        "    result =  \"New Logo vs. Not New  is NOT reltated to Conversion\"\n",
        "\n",
        "print(result)"
      ],
      "execution_count": 429,
      "outputs": [
        {
          "output_type": "stream",
          "text": [
            "New Logo vs. Not New  is reltated to Conversion\n"
          ],
          "name": "stdout"
        }
      ]
    },
    {
      "cell_type": "markdown",
      "metadata": {
        "id": "kMGftOJtsBU1",
        "colab_type": "text"
      },
      "source": [
        "## Times Series"
      ]
    },
    {
      "cell_type": "code",
      "metadata": {
        "id": "6L7OLZDLNwgy",
        "colab_type": "code",
        "outputId": "7547b96a-fc6f-427a-d307-68088b9c3b51",
        "colab": {
          "base_uri": "https://localhost:8080/",
          "height": 501
        }
      },
      "source": [
        "# average of discount by date\n",
        "plt.figure(figsize=(14.7,8))\n",
        "df=df.sort_values(by=['Created Date'])\n",
        "plt.plot(df['Created Date'].unique(),df['discount'].groupby(df['Created Date']).mean())"
      ],
      "execution_count": 430,
      "outputs": [
        {
          "output_type": "execute_result",
          "data": {
            "text/plain": [
              "[<matplotlib.lines.Line2D at 0x7f420e645e80>]"
            ]
          },
          "metadata": {
            "tags": []
          },
          "execution_count": 430
        },
        {
          "output_type": "display_data",
          "data": {
            "image/png": "[encoded data removed]",
            "text/plain": [
              "<Figure size 1058.4x576 with 1 Axes>"
            ]
          },
          "metadata": {
            "tags": [],
            "needs_background": "light"
          }
        }
      ]
    },
    {
      "cell_type": "code",
      "metadata": {
        "id": "SycOU6MxNwg2",
        "colab_type": "code",
        "colab": {}
      },
      "source": [
        "df['month']=pd.PeriodIndex(df['Created Date'], freq='M')\n",
        "df['month']=df['month'].astype(str)"
      ],
      "execution_count": 0,
      "outputs": []
    },
    {
      "cell_type": "code",
      "metadata": {
        "id": "mjFeKMoeNwhB",
        "colab_type": "code",
        "outputId": "d0279c40-7e8c-4119-f720-07244d88f2f8",
        "colab": {
          "base_uri": "https://localhost:8080/",
          "height": 514
        }
      },
      "source": [
        "# average of discount by month\n",
        "plt.figure(figsize=(14.7,8))\n",
        "plt.plot(df['month'].unique(),df['discount'].groupby(df['month']).mean())\n",
        "plt.xticks(df['month'].unique(), df['month'].unique(), rotation='vertical');\n",
        "plt.show()"
      ],
      "execution_count": 432,
      "outputs": [
        {
          "output_type": "display_data",
          "data": {
            "image/png": "[encoded data removed]",
            "text/plain": [
              "<Figure size 1058.4x576 with 1 Axes>"
            ]
          },
          "metadata": {
            "tags": [],
            "needs_background": "light"
          }
        }
      ]
    },
    {
      "cell_type": "code",
      "metadata": {
        "id": "5klv9xhfNwhE",
        "colab_type": "code",
        "colab": {}
      },
      "source": [
        "df['stage_number']=df['Stage'].replace({'Won': 1, 'Lost': 0})"
      ],
      "execution_count": 0,
      "outputs": []
    },
    {
      "cell_type": "code",
      "metadata": {
        "id": "wU8OQVASNwhH",
        "colab_type": "code",
        "outputId": "b33139ee-2d89-496e-ce1b-b364306b9d41",
        "colab": {
          "base_uri": "https://localhost:8080/",
          "height": 501
        }
      },
      "source": [
        "# average of conversion rate by date\n",
        "plt.figure(figsize=(14.7,8))\n",
        "df=df.sort_values(by=['Created Date'])\n",
        "plt.plot(df['Created Date'].unique(),df['stage_number'].groupby(df['Created Date']).mean())"
      ],
      "execution_count": 434,
      "outputs": [
        {
          "output_type": "execute_result",
          "data": {
            "text/plain": [
              "[<matplotlib.lines.Line2D at 0x7f420eac31d0>]"
            ]
          },
          "metadata": {
            "tags": []
          },
          "execution_count": 434
        },
        {
          "output_type": "display_data",
          "data": {
            "image/png": "[encoded data removed]",
            "text/plain": [
              "<Figure size 1058.4x576 with 1 Axes>"
            ]
          },
          "metadata": {
            "tags": [],
            "needs_background": "light"
          }
        }
      ]
    },
    {
      "cell_type": "code",
      "metadata": {
        "id": "tHFSYTkHNwhL",
        "colab_type": "code",
        "outputId": "f0a40f98-e922-4b2f-d6f8-03143697b8aa",
        "colab": {
          "base_uri": "https://localhost:8080/",
          "height": 514
        }
      },
      "source": [
        "# average of conversion rate by month\n",
        "plt.figure(figsize=(14.7,8))\n",
        "plt.plot(df['month'].unique(),df['stage_number'].groupby(df['month']).mean())\n",
        "plt.xticks(df['month'].unique(), df['month'].unique(), rotation='vertical');\n",
        "plt.show()"
      ],
      "execution_count": 435,
      "outputs": [
        {
          "output_type": "display_data",
          "data": {
            "image/png": "[encoded data removed]",
            "text/plain": [
              "<Figure size 1058.4x576 with 1 Axes>"
            ]
          },
          "metadata": {
            "tags": [],
            "needs_background": "light"
          }
        }
      ]
    },
    {
      "cell_type": "code",
      "metadata": {
        "id": "dd9ZH7CXNwhP",
        "colab_type": "code",
        "colab": {}
      },
      "source": [
        "df['quarter']=pd.PeriodIndex(df['Created Date'], freq='Q')\n",
        "df['quarter']=df['quarter'].astype(str)"
      ],
      "execution_count": 0,
      "outputs": []
    },
    {
      "cell_type": "markdown",
      "metadata": {
        "id": "HCfvSc6vNwhT",
        "colab_type": "text"
      },
      "source": [
        "It is showed that the discount and conversion rate is usually higher at the end of the quarter and lower at the begining of the quarter."
      ]
    },
    {
      "cell_type": "markdown",
      "metadata": {
        "id": "WQogQRFOsBU7",
        "colab_type": "text"
      },
      "source": [
        "# Predict Conversion Rate"
      ]
    },
    {
      "cell_type": "markdown",
      "metadata": {
        "id": "k-_Lk-JUsBU8",
        "colab_type": "text"
      },
      "source": [
        "## Split Train Test"
      ]
    },
    {
      "cell_type": "code",
      "metadata": {
        "id": "sMfMmqorsBU8",
        "colab_type": "code",
        "colab": {}
      },
      "source": [
        "data = df.copy()"
      ],
      "execution_count": 0,
      "outputs": []
    },
    {
      "cell_type": "code",
      "metadata": {
        "id": "aXbMC7RfsBVA",
        "colab_type": "code",
        "outputId": "2b86c7f5-28e2-46ea-bec7-f5a26cab4d2f",
        "colab": {
          "base_uri": "https://localhost:8080/",
          "height": 417
        }
      },
      "source": [
        "# Create binary Y\n",
        "data['y']=np.where(df['Stage'] =='Won', 1.0,0.0)\n",
        "\n",
        "data['Partner vs. Direct'] = df1['Type']\n",
        "data['Cloud vs. On-Prem'] = df2['Type']\n",
        "#create binary variables\n",
        "data['Partner cloud']=np.where(df['Type'] =='Partner - Cloud Product', 1.0,0.0)\n",
        "data['Partner prem']=np.where(df['Type'] =='Partner - OnPremise Product', 1.0, 0.0)\n",
        "data['Direct cloud']=np.where(df['Type'] =='Direct - Cloud Product', 1.0,0.0)\n",
        "data['Direct prem']=np.where(df['Type'] =='Direct - OnPremise Product', 1.0, 0.0)\n",
        "data.head()"
      ],
      "execution_count": 438,
      "outputs": [
        {
          "output_type": "execute_result",
          "data": {
            "text/html": [
              "<div>\n",
              "<style scoped>\n",
              "    .dataframe tbody tr th:only-of-type {\n",
              "        vertical-align: middle;\n",
              "    }\n",
              "\n",
              "    .dataframe tbody tr th {\n",
              "        vertical-align: top;\n",
              "    }\n",
              "\n",
              "    .dataframe thead th {\n",
              "        text-align: right;\n",
              "    }\n",
              "</style>\n",
              "<table border=\"1\" class=\"dataframe\">\n",
              "  <thead>\n",
              "    <tr style=\"text-align: right;\">\n",
              "      <th></th>\n",
              "      <th>ID</th>\n",
              "      <th>Close Date</th>\n",
              "      <th>Created Date</th>\n",
              "      <th>New Logo</th>\n",
              "      <th>Type</th>\n",
              "      <th>Stage</th>\n",
              "      <th>Billing Plan</th>\n",
              "      <th>ACV</th>\n",
              "      <th>Discount Amount</th>\n",
              "      <th>Amount</th>\n",
              "      <th>Net Amount</th>\n",
              "      <th>amount</th>\n",
              "      <th>net amount</th>\n",
              "      <th>discount</th>\n",
              "      <th>depth</th>\n",
              "      <th>month</th>\n",
              "      <th>stage_number</th>\n",
              "      <th>quarter</th>\n",
              "      <th>y</th>\n",
              "      <th>Partner vs. Direct</th>\n",
              "      <th>Cloud vs. On-Prem</th>\n",
              "      <th>Partner cloud</th>\n",
              "      <th>Partner prem</th>\n",
              "      <th>Direct cloud</th>\n",
              "      <th>Direct prem</th>\n",
              "    </tr>\n",
              "  </thead>\n",
              "  <tbody>\n",
              "    <tr>\n",
              "      <th>747</th>\n",
              "      <td>748</td>\n",
              "      <td>2015-08-11</td>\n",
              "      <td>2015-08-03</td>\n",
              "      <td>0</td>\n",
              "      <td>Partner - OnPremise Product</td>\n",
              "      <td>Won</td>\n",
              "      <td>Annual</td>\n",
              "      <td>17900</td>\n",
              "      <td>NaN</td>\n",
              "      <td>17900</td>\n",
              "      <td>17900</td>\n",
              "      <td>17900.0</td>\n",
              "      <td>17900.0</td>\n",
              "      <td>0.0</td>\n",
              "      <td>0.000000</td>\n",
              "      <td>2015-08</td>\n",
              "      <td>1</td>\n",
              "      <td>2015Q3</td>\n",
              "      <td>1.0</td>\n",
              "      <td>Partner</td>\n",
              "      <td>OnPremise</td>\n",
              "      <td>0.0</td>\n",
              "      <td>1.0</td>\n",
              "      <td>0.0</td>\n",
              "      <td>0.0</td>\n",
              "    </tr>\n",
              "    <tr>\n",
              "      <th>785</th>\n",
              "      <td>786</td>\n",
              "      <td>2015-12-17</td>\n",
              "      <td>2015-08-03</td>\n",
              "      <td>0</td>\n",
              "      <td>Partner - OnPremise Product</td>\n",
              "      <td>Won</td>\n",
              "      <td>3 Years</td>\n",
              "      <td>15394</td>\n",
              "      <td>23628</td>\n",
              "      <td>69810</td>\n",
              "      <td>46182</td>\n",
              "      <td>69810.0</td>\n",
              "      <td>46182.0</td>\n",
              "      <td>23628.0</td>\n",
              "      <td>0.338462</td>\n",
              "      <td>2015-08</td>\n",
              "      <td>1</td>\n",
              "      <td>2015Q3</td>\n",
              "      <td>1.0</td>\n",
              "      <td>Partner</td>\n",
              "      <td>OnPremise</td>\n",
              "      <td>0.0</td>\n",
              "      <td>1.0</td>\n",
              "      <td>0.0</td>\n",
              "      <td>0.0</td>\n",
              "    </tr>\n",
              "    <tr>\n",
              "      <th>246</th>\n",
              "      <td>247</td>\n",
              "      <td>2015-11-03</td>\n",
              "      <td>2015-08-04</td>\n",
              "      <td>0</td>\n",
              "      <td>Partner - OnPremise Product</td>\n",
              "      <td>Lost</td>\n",
              "      <td>NaN</td>\n",
              "      <td>31680</td>\n",
              "      <td>NaN</td>\n",
              "      <td>31680</td>\n",
              "      <td>31680</td>\n",
              "      <td>31680.0</td>\n",
              "      <td>31680.0</td>\n",
              "      <td>0.0</td>\n",
              "      <td>0.000000</td>\n",
              "      <td>2015-08</td>\n",
              "      <td>0</td>\n",
              "      <td>2015Q3</td>\n",
              "      <td>0.0</td>\n",
              "      <td>Partner</td>\n",
              "      <td>OnPremise</td>\n",
              "      <td>0.0</td>\n",
              "      <td>1.0</td>\n",
              "      <td>0.0</td>\n",
              "      <td>0.0</td>\n",
              "    </tr>\n",
              "    <tr>\n",
              "      <th>376</th>\n",
              "      <td>377</td>\n",
              "      <td>2016-05-19</td>\n",
              "      <td>2015-08-04</td>\n",
              "      <td>0</td>\n",
              "      <td>Direct - OnPremise Product</td>\n",
              "      <td>Lost</td>\n",
              "      <td>NaN</td>\n",
              "      <td>22000</td>\n",
              "      <td>NaN</td>\n",
              "      <td>22000</td>\n",
              "      <td>22000</td>\n",
              "      <td>22000.0</td>\n",
              "      <td>22000.0</td>\n",
              "      <td>0.0</td>\n",
              "      <td>0.000000</td>\n",
              "      <td>2015-08</td>\n",
              "      <td>0</td>\n",
              "      <td>2015Q3</td>\n",
              "      <td>0.0</td>\n",
              "      <td>Direct</td>\n",
              "      <td>OnPremise</td>\n",
              "      <td>0.0</td>\n",
              "      <td>0.0</td>\n",
              "      <td>0.0</td>\n",
              "      <td>1.0</td>\n",
              "    </tr>\n",
              "    <tr>\n",
              "      <th>753</th>\n",
              "      <td>754</td>\n",
              "      <td>2015-08-28</td>\n",
              "      <td>2015-08-04</td>\n",
              "      <td>0</td>\n",
              "      <td>Partner - OnPremise Product</td>\n",
              "      <td>Won</td>\n",
              "      <td>3 Years</td>\n",
              "      <td>13425</td>\n",
              "      <td>13425</td>\n",
              "      <td>53700</td>\n",
              "      <td>40275</td>\n",
              "      <td>53700.0</td>\n",
              "      <td>40275.0</td>\n",
              "      <td>13425.0</td>\n",
              "      <td>0.250000</td>\n",
              "      <td>2015-08</td>\n",
              "      <td>1</td>\n",
              "      <td>2015Q3</td>\n",
              "      <td>1.0</td>\n",
              "      <td>Partner</td>\n",
              "      <td>OnPremise</td>\n",
              "      <td>0.0</td>\n",
              "      <td>1.0</td>\n",
              "      <td>0.0</td>\n",
              "      <td>0.0</td>\n",
              "    </tr>\n",
              "  </tbody>\n",
              "</table>\n",
              "</div>"
            ],
            "text/plain": [
              "      ID Close Date Created Date  ...  Partner prem Direct cloud Direct prem\n",
              "747  748 2015-08-11   2015-08-03  ...           1.0          0.0         0.0\n",
              "785  786 2015-12-17   2015-08-03  ...           1.0          0.0         0.0\n",
              "246  247 2015-11-03   2015-08-04  ...           1.0          0.0         0.0\n",
              "376  377 2016-05-19   2015-08-04  ...           0.0          0.0         1.0\n",
              "753  754 2015-08-28   2015-08-04  ...           1.0          0.0         0.0\n",
              "\n",
              "[5 rows x 25 columns]"
            ]
          },
          "metadata": {
            "tags": []
          },
          "execution_count": 438
        }
      ]
    },
    {
      "cell_type": "code",
      "metadata": {
        "id": "B8t9pqrFsBVE",
        "colab_type": "code",
        "colab": {}
      },
      "source": [
        "train = data[data['ID'] <=1200]\n",
        "test = data[data['ID'] > 1200]"
      ],
      "execution_count": 0,
      "outputs": []
    },
    {
      "cell_type": "code",
      "metadata": {
        "scrolled": true,
        "id": "jG2eZrcRsBVH",
        "colab_type": "code",
        "outputId": "1a4a6dd3-c259-4b1a-b610-ad0dd77a51e2",
        "colab": {
          "base_uri": "https://localhost:8080/",
          "height": 34
        }
      },
      "source": [
        "train.shape"
      ],
      "execution_count": 440,
      "outputs": [
        {
          "output_type": "execute_result",
          "data": {
            "text/plain": [
              "(1200, 25)"
            ]
          },
          "metadata": {
            "tags": []
          },
          "execution_count": 440
        }
      ]
    },
    {
      "cell_type": "code",
      "metadata": {
        "id": "bzhHkhMusBVL",
        "colab_type": "code",
        "outputId": "6f25315c-010f-4a39-8421-8d714e9cfced",
        "colab": {
          "base_uri": "https://localhost:8080/",
          "height": 34
        }
      },
      "source": [
        "test.shape"
      ],
      "execution_count": 441,
      "outputs": [
        {
          "output_type": "execute_result",
          "data": {
            "text/plain": [
              "(305, 25)"
            ]
          },
          "metadata": {
            "tags": []
          },
          "execution_count": 441
        }
      ]
    },
    {
      "cell_type": "code",
      "metadata": {
        "id": "NvrZJUIIsBVN",
        "colab_type": "code",
        "outputId": "315bb12c-aa55-4c98-8c8e-0844b505cd86",
        "colab": {
          "base_uri": "https://localhost:8080/",
          "height": 87
        }
      },
      "source": [
        "# train test balance\n",
        "from collections import Counter\n",
        "\n",
        "print(\"train data:\", Counter(train['y']))\n",
        "print(\"train data 1 proportion:\", len(train[train['y']==1])/len(train))\n",
        "print(\"test data:\", Counter(test['y']))\n",
        "print(\"test data 1 proportion:\", len(test[test['y']==1])/len(test))"
      ],
      "execution_count": 442,
      "outputs": [
        {
          "output_type": "stream",
          "text": [
            "train data: Counter({0.0: 757, 1.0: 443})\n",
            "train data 1 proportion: 0.36916666666666664\n",
            "test data: Counter({0.0: 214, 1.0: 91})\n",
            "test data 1 proportion: 0.2983606557377049\n"
          ],
          "name": "stdout"
        }
      ]
    },
    {
      "cell_type": "markdown",
      "metadata": {
        "id": "lf-R79i4sBVQ",
        "colab_type": "text"
      },
      "source": [
        "## Regress on whole dataset"
      ]
    },
    {
      "cell_type": "code",
      "metadata": {
        "id": "jwy3PAStsBVR",
        "colab_type": "code",
        "colab": {}
      },
      "source": [
        "X_train = train[['discount','amount','New Logo','Partner cloud','Partner prem','Direct cloud','Direct prem']]\n",
        "y_train = train['y']\n",
        "X_test = test[['discount','amount','New Logo','Partner cloud','Partner prem','Direct cloud','Direct prem']]\n",
        "y_test = test['y']"
      ],
      "execution_count": 0,
      "outputs": []
    },
    {
      "cell_type": "code",
      "metadata": {
        "id": "OqrBMfl5sBVU",
        "colab_type": "code",
        "outputId": "717e37ab-e400-45e5-d151-a30bb8d14330",
        "colab": {
          "base_uri": "https://localhost:8080/",
          "height": 763
        }
      },
      "source": [
        "logreg=sm.Logit(y_train, X_train, missing='drop').fit()\n",
        "y_prob = logreg.predict(X_test)\n",
        "y_label = [ 0.0 if x < 0.5 else 1.0 for x in y_prob]\n",
        "print(\"1. In Sample Performance\")\n",
        "print(logreg.summary())\n",
        "print('\\n')\n",
        "print(\"2. Out of Sample Performance\")\n",
        "print(\"- Confusion Matrix\")\n",
        "print(confusion_matrix(y_test, y_label))\n",
        "print('\\n')\n",
        "print(\"- Key Metrics\")\n",
        "print(classification_report(y_test, y_label))   "
      ],
      "execution_count": 444,
      "outputs": [
        {
          "output_type": "stream",
          "text": [
            "Optimization terminated successfully.\n",
            "         Current function value: 0.445041\n",
            "         Iterations 8\n",
            "1. In Sample Performance\n",
            "                           Logit Regression Results                           \n",
            "==============================================================================\n",
            "Dep. Variable:                      y   No. Observations:                 1151\n",
            "Model:                          Logit   Df Residuals:                     1144\n",
            "Method:                           MLE   Df Model:                            6\n",
            "Date:                Mon, 08 Jun 2020   Pseudo R-squ.:                  0.3318\n",
            "Time:                        04:38:28   Log-Likelihood:                -512.24\n",
            "converged:                       True   LL-Null:                       -766.56\n",
            "Covariance Type:            nonrobust   LLR p-value:                1.160e-106\n",
            "=================================================================================\n",
            "                    coef    std err          z      P>|z|      [0.025      0.975]\n",
            "---------------------------------------------------------------------------------\n",
            "discount       5.506e-05   6.59e-06      8.352      0.000    4.21e-05     6.8e-05\n",
            "amount        -1.804e-06    1.1e-06     -1.639      0.101   -3.96e-06    3.53e-07\n",
            "New Logo          2.1419      0.172     12.475      0.000       1.805       2.478\n",
            "Partner cloud    -2.6405      0.267     -9.891      0.000      -3.164      -2.117\n",
            "Partner prem     -1.7741      0.153    -11.630      0.000      -2.073      -1.475\n",
            "Direct cloud     -3.0963      0.420     -7.364      0.000      -3.920      -2.272\n",
            "Direct prem      -2.5071      0.214    -11.698      0.000      -2.927      -2.087\n",
            "=================================================================================\n",
            "\n",
            "\n",
            "2. Out of Sample Performance\n",
            "- Confusion Matrix\n",
            "[[187  27]\n",
            " [ 34  57]]\n",
            "\n",
            "\n",
            "- Key Metrics\n",
            "              precision    recall  f1-score   support\n",
            "\n",
            "         0.0       0.85      0.87      0.86       214\n",
            "         1.0       0.68      0.63      0.65        91\n",
            "\n",
            "    accuracy                           0.80       305\n",
            "   macro avg       0.76      0.75      0.76       305\n",
            "weighted avg       0.80      0.80      0.80       305\n",
            "\n"
          ],
          "name": "stdout"
        }
      ]
    },
    {
      "cell_type": "markdown",
      "metadata": {
        "id": "GUzWf-q00xXR",
        "colab_type": "text"
      },
      "source": [
        "# Price Optimization"
      ]
    },
    {
      "cell_type": "code",
      "metadata": {
        "id": "YpMVP_CusBVZ",
        "colab_type": "code",
        "outputId": "051bc2b8-7215-48f2-f162-532a91f30d9c",
        "colab": {
          "base_uri": "https://localhost:8080/",
          "height": 34
        }
      },
      "source": [
        "# find the individual optimized discount for each individual customer\n",
        "import numpy as np\n",
        "from scipy.optimize import minimize\n",
        "ID=0\n",
        "ID_max=len(X_test)\n",
        "z=np.empty([ID_max,])\n",
        "while ID<=ID_max-1:\n",
        "  UT=np.matmul(X_test.iloc[ID,1:7],logreg.params[1:7])\n",
        "  b=logreg.params[0]\n",
        "  p=X_test.iloc[ID,1]\n",
        "  def revenueD(d):\n",
        "    \"\"\"This is the negative revenue function\"\"\"\n",
        "    return -np.exp(UT+b*np.sqrt(d**2))/(1+np.exp(UT+b*np.sqrt(d**2)))*(p-np.sqrt(d**2))\n",
        "  sol3=minimize_scalar(revenueD)\n",
        "  z[ID]=sol3.x\n",
        "  ID=ID+1\n",
        "print(round(np.mean(z),0),np.round(np.mean(test['discount']),0))"
      ],
      "execution_count": 445,
      "outputs": [
        {
          "output_type": "stream",
          "text": [
            "13557.0 12685.0\n"
          ],
          "name": "stdout"
        }
      ]
    },
    {
      "cell_type": "code",
      "metadata": {
        "id": "xGCg1QUV1YHW",
        "colab_type": "code",
        "outputId": "da13127b-f5c7-46d6-a609-6f02891c8300",
        "colab": {
          "base_uri": "https://localhost:8080/",
          "height": 524
        }
      },
      "source": [
        "test['optimal discount']=np.sqrt(z**2)\n",
        "test.head()"
      ],
      "execution_count": 447,
      "outputs": [
        {
          "output_type": "stream",
          "text": [
            "/usr/local/lib/python3.6/dist-packages/ipykernel_launcher.py:1: SettingWithCopyWarning: \n",
            "A value is trying to be set on a copy of a slice from a DataFrame.\n",
            "Try using .loc[row_indexer,col_indexer] = value instead\n",
            "\n",
            "See the caveats in the documentation: https://pandas.pydata.org/pandas-docs/stable/user_guide/indexing.html#returning-a-view-versus-a-copy\n",
            "  \"\"\"Entry point for launching an IPython kernel.\n"
          ],
          "name": "stderr"
        },
        {
          "output_type": "execute_result",
          "data": {
            "text/html": [
              "<div>\n",
              "<style scoped>\n",
              "    .dataframe tbody tr th:only-of-type {\n",
              "        vertical-align: middle;\n",
              "    }\n",
              "\n",
              "    .dataframe tbody tr th {\n",
              "        vertical-align: top;\n",
              "    }\n",
              "\n",
              "    .dataframe thead th {\n",
              "        text-align: right;\n",
              "    }\n",
              "</style>\n",
              "<table border=\"1\" class=\"dataframe\">\n",
              "  <thead>\n",
              "    <tr style=\"text-align: right;\">\n",
              "      <th></th>\n",
              "      <th>ID</th>\n",
              "      <th>Close Date</th>\n",
              "      <th>Created Date</th>\n",
              "      <th>New Logo</th>\n",
              "      <th>Type</th>\n",
              "      <th>Stage</th>\n",
              "      <th>Billing Plan</th>\n",
              "      <th>ACV</th>\n",
              "      <th>Discount Amount</th>\n",
              "      <th>Amount</th>\n",
              "      <th>Net Amount</th>\n",
              "      <th>amount</th>\n",
              "      <th>net amount</th>\n",
              "      <th>discount</th>\n",
              "      <th>depth</th>\n",
              "      <th>month</th>\n",
              "      <th>stage_number</th>\n",
              "      <th>quarter</th>\n",
              "      <th>y</th>\n",
              "      <th>Partner vs. Direct</th>\n",
              "      <th>Cloud vs. On-Prem</th>\n",
              "      <th>Partner cloud</th>\n",
              "      <th>Partner prem</th>\n",
              "      <th>Direct cloud</th>\n",
              "      <th>Direct prem</th>\n",
              "      <th>optimal discount</th>\n",
              "    </tr>\n",
              "  </thead>\n",
              "  <tbody>\n",
              "    <tr>\n",
              "      <th>1354</th>\n",
              "      <td>1355</td>\n",
              "      <td>2015-12-16</td>\n",
              "      <td>2015-08-04</td>\n",
              "      <td>0</td>\n",
              "      <td>Direct - OnPremise Product</td>\n",
              "      <td>Lost</td>\n",
              "      <td>NaN</td>\n",
              "      <td>17900</td>\n",
              "      <td>NaN</td>\n",
              "      <td>17900</td>\n",
              "      <td>17900</td>\n",
              "      <td>17900.0</td>\n",
              "      <td>17900.0</td>\n",
              "      <td>0.0</td>\n",
              "      <td>0.0</td>\n",
              "      <td>2015-08</td>\n",
              "      <td>0</td>\n",
              "      <td>2015Q3</td>\n",
              "      <td>0.0</td>\n",
              "      <td>Direct</td>\n",
              "      <td>OnPremise</td>\n",
              "      <td>0.0</td>\n",
              "      <td>0.0</td>\n",
              "      <td>0.0</td>\n",
              "      <td>1.0</td>\n",
              "      <td>1.534687e-11</td>\n",
              "    </tr>\n",
              "    <tr>\n",
              "      <th>1348</th>\n",
              "      <td>1349</td>\n",
              "      <td>2016-07-05</td>\n",
              "      <td>2015-08-05</td>\n",
              "      <td>0</td>\n",
              "      <td>Partner - OnPremise Product</td>\n",
              "      <td>Lost</td>\n",
              "      <td>NaN</td>\n",
              "      <td>89142</td>\n",
              "      <td>NaN</td>\n",
              "      <td>89142</td>\n",
              "      <td>89142</td>\n",
              "      <td>89142.0</td>\n",
              "      <td>89142.0</td>\n",
              "      <td>0.0</td>\n",
              "      <td>0.0</td>\n",
              "      <td>2015-08</td>\n",
              "      <td>0</td>\n",
              "      <td>2015Q3</td>\n",
              "      <td>0.0</td>\n",
              "      <td>Partner</td>\n",
              "      <td>OnPremise</td>\n",
              "      <td>0.0</td>\n",
              "      <td>1.0</td>\n",
              "      <td>0.0</td>\n",
              "      <td>0.0</td>\n",
              "      <td>4.299395e+04</td>\n",
              "    </tr>\n",
              "    <tr>\n",
              "      <th>1317</th>\n",
              "      <td>1318</td>\n",
              "      <td>2015-09-14</td>\n",
              "      <td>2015-08-06</td>\n",
              "      <td>0</td>\n",
              "      <td>Partner - OnPremise Product</td>\n",
              "      <td>Lost</td>\n",
              "      <td>NaN</td>\n",
              "      <td>17900</td>\n",
              "      <td>NaN</td>\n",
              "      <td>17900</td>\n",
              "      <td>17900</td>\n",
              "      <td>17900.0</td>\n",
              "      <td>17900.0</td>\n",
              "      <td>0.0</td>\n",
              "      <td>0.0</td>\n",
              "      <td>2015-08</td>\n",
              "      <td>0</td>\n",
              "      <td>2015Q3</td>\n",
              "      <td>0.0</td>\n",
              "      <td>Partner</td>\n",
              "      <td>OnPremise</td>\n",
              "      <td>0.0</td>\n",
              "      <td>1.0</td>\n",
              "      <td>0.0</td>\n",
              "      <td>0.0</td>\n",
              "      <td>0.000000e+00</td>\n",
              "    </tr>\n",
              "    <tr>\n",
              "      <th>1324</th>\n",
              "      <td>1325</td>\n",
              "      <td>2016-02-17</td>\n",
              "      <td>2015-08-10</td>\n",
              "      <td>0</td>\n",
              "      <td>Partner - OnPremise Product</td>\n",
              "      <td>Lost</td>\n",
              "      <td>NaN</td>\n",
              "      <td>17900</td>\n",
              "      <td>NaN</td>\n",
              "      <td>17900</td>\n",
              "      <td>17900</td>\n",
              "      <td>17900.0</td>\n",
              "      <td>17900.0</td>\n",
              "      <td>0.0</td>\n",
              "      <td>0.0</td>\n",
              "      <td>2015-08</td>\n",
              "      <td>0</td>\n",
              "      <td>2015Q3</td>\n",
              "      <td>0.0</td>\n",
              "      <td>Partner</td>\n",
              "      <td>OnPremise</td>\n",
              "      <td>0.0</td>\n",
              "      <td>1.0</td>\n",
              "      <td>0.0</td>\n",
              "      <td>0.0</td>\n",
              "      <td>0.000000e+00</td>\n",
              "    </tr>\n",
              "    <tr>\n",
              "      <th>1314</th>\n",
              "      <td>1315</td>\n",
              "      <td>2016-02-17</td>\n",
              "      <td>2015-08-11</td>\n",
              "      <td>0</td>\n",
              "      <td>Partner - OnPremise Product</td>\n",
              "      <td>Lost</td>\n",
              "      <td>NaN</td>\n",
              "      <td>17900</td>\n",
              "      <td>NaN</td>\n",
              "      <td>17900</td>\n",
              "      <td>17900</td>\n",
              "      <td>17900.0</td>\n",
              "      <td>17900.0</td>\n",
              "      <td>0.0</td>\n",
              "      <td>0.0</td>\n",
              "      <td>2015-08</td>\n",
              "      <td>0</td>\n",
              "      <td>2015Q3</td>\n",
              "      <td>0.0</td>\n",
              "      <td>Partner</td>\n",
              "      <td>OnPremise</td>\n",
              "      <td>0.0</td>\n",
              "      <td>1.0</td>\n",
              "      <td>0.0</td>\n",
              "      <td>0.0</td>\n",
              "      <td>0.000000e+00</td>\n",
              "    </tr>\n",
              "  </tbody>\n",
              "</table>\n",
              "</div>"
            ],
            "text/plain": [
              "        ID Close Date Created Date  ...  Direct cloud Direct prem optimal discount\n",
              "1354  1355 2015-12-16   2015-08-04  ...           0.0         1.0     1.534687e-11\n",
              "1348  1349 2016-07-05   2015-08-05  ...           0.0         0.0     4.299395e+04\n",
              "1317  1318 2015-09-14   2015-08-06  ...           0.0         0.0     0.000000e+00\n",
              "1324  1325 2016-02-17   2015-08-10  ...           0.0         0.0     0.000000e+00\n",
              "1314  1315 2016-02-17   2015-08-11  ...           0.0         0.0     0.000000e+00\n",
              "\n",
              "[5 rows x 26 columns]"
            ]
          },
          "metadata": {
            "tags": []
          },
          "execution_count": 447
        }
      ]
    },
    {
      "cell_type": "markdown",
      "metadata": {
        "id": "u9Q8QwQC4j0t",
        "colab_type": "text"
      },
      "source": [
        "# Computation Revenue Improvement"
      ]
    },
    {
      "cell_type": "code",
      "metadata": {
        "id": "R_uowU461H88",
        "colab_type": "code",
        "outputId": "1bcdf703-1c33-42c8-bbd9-0f7f9d6c28ae",
        "colab": {
          "base_uri": "https://localhost:8080/",
          "height": 524
        }
      },
      "source": [
        "# Get the optimized revenue for each individual user\n",
        "xS=test[['optimal discount','amount','New Logo','Partner cloud','Partner prem','Direct cloud','Direct prem']]\n",
        "#print(xS.shape,logreg.params.shape)\n",
        "ID=0\n",
        "ID_max=len(test)\n",
        "revOpt=np.empty([ID_max,])\n",
        "while ID<=ID_max-1:\n",
        "  u=np.dot(xS.iloc[ID],logreg.params)\n",
        "  proba=np.exp(u)/(1+np.exp(u))\n",
        "  revOpt[ID]=proba*(xS['amount'].array[ID]-z[ID])\n",
        "  ID=ID+1\n",
        "revOpt=np.nan_to_num(revOpt)\n",
        "test['Optimized Revenue']=revOpt\n",
        "test.head()"
      ],
      "execution_count": 448,
      "outputs": [
        {
          "output_type": "stream",
          "text": [
            "/usr/local/lib/python3.6/dist-packages/ipykernel_launcher.py:13: SettingWithCopyWarning: \n",
            "A value is trying to be set on a copy of a slice from a DataFrame.\n",
            "Try using .loc[row_indexer,col_indexer] = value instead\n",
            "\n",
            "See the caveats in the documentation: https://pandas.pydata.org/pandas-docs/stable/user_guide/indexing.html#returning-a-view-versus-a-copy\n",
            "  del sys.path[0]\n"
          ],
          "name": "stderr"
        },
        {
          "output_type": "execute_result",
          "data": {
            "text/html": [
              "<div>\n",
              "<style scoped>\n",
              "    .dataframe tbody tr th:only-of-type {\n",
              "        vertical-align: middle;\n",
              "    }\n",
              "\n",
              "    .dataframe tbody tr th {\n",
              "        vertical-align: top;\n",
              "    }\n",
              "\n",
              "    .dataframe thead th {\n",
              "        text-align: right;\n",
              "    }\n",
              "</style>\n",
              "<table border=\"1\" class=\"dataframe\">\n",
              "  <thead>\n",
              "    <tr style=\"text-align: right;\">\n",
              "      <th></th>\n",
              "      <th>ID</th>\n",
              "      <th>Close Date</th>\n",
              "      <th>Created Date</th>\n",
              "      <th>New Logo</th>\n",
              "      <th>Type</th>\n",
              "      <th>Stage</th>\n",
              "      <th>Billing Plan</th>\n",
              "      <th>ACV</th>\n",
              "      <th>Discount Amount</th>\n",
              "      <th>Amount</th>\n",
              "      <th>Net Amount</th>\n",
              "      <th>amount</th>\n",
              "      <th>net amount</th>\n",
              "      <th>discount</th>\n",
              "      <th>depth</th>\n",
              "      <th>month</th>\n",
              "      <th>stage_number</th>\n",
              "      <th>quarter</th>\n",
              "      <th>y</th>\n",
              "      <th>Partner vs. Direct</th>\n",
              "      <th>Cloud vs. On-Prem</th>\n",
              "      <th>Partner cloud</th>\n",
              "      <th>Partner prem</th>\n",
              "      <th>Direct cloud</th>\n",
              "      <th>Direct prem</th>\n",
              "      <th>optimal discount</th>\n",
              "      <th>Optimized Revenue</th>\n",
              "    </tr>\n",
              "  </thead>\n",
              "  <tbody>\n",
              "    <tr>\n",
              "      <th>1354</th>\n",
              "      <td>1355</td>\n",
              "      <td>2015-12-16</td>\n",
              "      <td>2015-08-04</td>\n",
              "      <td>0</td>\n",
              "      <td>Direct - OnPremise Product</td>\n",
              "      <td>Lost</td>\n",
              "      <td>NaN</td>\n",
              "      <td>17900</td>\n",
              "      <td>NaN</td>\n",
              "      <td>17900</td>\n",
              "      <td>17900</td>\n",
              "      <td>17900.0</td>\n",
              "      <td>17900.0</td>\n",
              "      <td>0.0</td>\n",
              "      <td>0.0</td>\n",
              "      <td>2015-08</td>\n",
              "      <td>0</td>\n",
              "      <td>2015Q3</td>\n",
              "      <td>0.0</td>\n",
              "      <td>Direct</td>\n",
              "      <td>OnPremise</td>\n",
              "      <td>0.0</td>\n",
              "      <td>0.0</td>\n",
              "      <td>0.0</td>\n",
              "      <td>1.0</td>\n",
              "      <td>1.534687e-11</td>\n",
              "      <td>1309.241809</td>\n",
              "    </tr>\n",
              "    <tr>\n",
              "      <th>1348</th>\n",
              "      <td>1349</td>\n",
              "      <td>2016-07-05</td>\n",
              "      <td>2015-08-05</td>\n",
              "      <td>0</td>\n",
              "      <td>Partner - OnPremise Product</td>\n",
              "      <td>Lost</td>\n",
              "      <td>NaN</td>\n",
              "      <td>89142</td>\n",
              "      <td>NaN</td>\n",
              "      <td>89142</td>\n",
              "      <td>89142</td>\n",
              "      <td>89142.0</td>\n",
              "      <td>89142.0</td>\n",
              "      <td>0.0</td>\n",
              "      <td>0.0</td>\n",
              "      <td>2015-08</td>\n",
              "      <td>0</td>\n",
              "      <td>2015Q3</td>\n",
              "      <td>0.0</td>\n",
              "      <td>Partner</td>\n",
              "      <td>OnPremise</td>\n",
              "      <td>0.0</td>\n",
              "      <td>1.0</td>\n",
              "      <td>0.0</td>\n",
              "      <td>0.0</td>\n",
              "      <td>4.299395e+04</td>\n",
              "      <td>27986.226909</td>\n",
              "    </tr>\n",
              "    <tr>\n",
              "      <th>1317</th>\n",
              "      <td>1318</td>\n",
              "      <td>2015-09-14</td>\n",
              "      <td>2015-08-06</td>\n",
              "      <td>0</td>\n",
              "      <td>Partner - OnPremise Product</td>\n",
              "      <td>Lost</td>\n",
              "      <td>NaN</td>\n",
              "      <td>17900</td>\n",
              "      <td>NaN</td>\n",
              "      <td>17900</td>\n",
              "      <td>17900</td>\n",
              "      <td>17900.0</td>\n",
              "      <td>17900.0</td>\n",
              "      <td>0.0</td>\n",
              "      <td>0.0</td>\n",
              "      <td>2015-08</td>\n",
              "      <td>0</td>\n",
              "      <td>2015Q3</td>\n",
              "      <td>0.0</td>\n",
              "      <td>Partner</td>\n",
              "      <td>OnPremise</td>\n",
              "      <td>0.0</td>\n",
              "      <td>1.0</td>\n",
              "      <td>0.0</td>\n",
              "      <td>0.0</td>\n",
              "      <td>0.000000e+00</td>\n",
              "      <td>2525.251787</td>\n",
              "    </tr>\n",
              "    <tr>\n",
              "      <th>1324</th>\n",
              "      <td>1325</td>\n",
              "      <td>2016-02-17</td>\n",
              "      <td>2015-08-10</td>\n",
              "      <td>0</td>\n",
              "      <td>Partner - OnPremise Product</td>\n",
              "      <td>Lost</td>\n",
              "      <td>NaN</td>\n",
              "      <td>17900</td>\n",
              "      <td>NaN</td>\n",
              "      <td>17900</td>\n",
              "      <td>17900</td>\n",
              "      <td>17900.0</td>\n",
              "      <td>17900.0</td>\n",
              "      <td>0.0</td>\n",
              "      <td>0.0</td>\n",
              "      <td>2015-08</td>\n",
              "      <td>0</td>\n",
              "      <td>2015Q3</td>\n",
              "      <td>0.0</td>\n",
              "      <td>Partner</td>\n",
              "      <td>OnPremise</td>\n",
              "      <td>0.0</td>\n",
              "      <td>1.0</td>\n",
              "      <td>0.0</td>\n",
              "      <td>0.0</td>\n",
              "      <td>0.000000e+00</td>\n",
              "      <td>2525.251787</td>\n",
              "    </tr>\n",
              "    <tr>\n",
              "      <th>1314</th>\n",
              "      <td>1315</td>\n",
              "      <td>2016-02-17</td>\n",
              "      <td>2015-08-11</td>\n",
              "      <td>0</td>\n",
              "      <td>Partner - OnPremise Product</td>\n",
              "      <td>Lost</td>\n",
              "      <td>NaN</td>\n",
              "      <td>17900</td>\n",
              "      <td>NaN</td>\n",
              "      <td>17900</td>\n",
              "      <td>17900</td>\n",
              "      <td>17900.0</td>\n",
              "      <td>17900.0</td>\n",
              "      <td>0.0</td>\n",
              "      <td>0.0</td>\n",
              "      <td>2015-08</td>\n",
              "      <td>0</td>\n",
              "      <td>2015Q3</td>\n",
              "      <td>0.0</td>\n",
              "      <td>Partner</td>\n",
              "      <td>OnPremise</td>\n",
              "      <td>0.0</td>\n",
              "      <td>1.0</td>\n",
              "      <td>0.0</td>\n",
              "      <td>0.0</td>\n",
              "      <td>0.000000e+00</td>\n",
              "      <td>2525.251787</td>\n",
              "    </tr>\n",
              "  </tbody>\n",
              "</table>\n",
              "</div>"
            ],
            "text/plain": [
              "        ID Close Date  ... optimal discount  Optimized Revenue\n",
              "1354  1355 2015-12-16  ...     1.534687e-11        1309.241809\n",
              "1348  1349 2016-07-05  ...     4.299395e+04       27986.226909\n",
              "1317  1318 2015-09-14  ...     0.000000e+00        2525.251787\n",
              "1324  1325 2016-02-17  ...     0.000000e+00        2525.251787\n",
              "1314  1315 2016-02-17  ...     0.000000e+00        2525.251787\n",
              "\n",
              "[5 rows x 27 columns]"
            ]
          },
          "metadata": {
            "tags": []
          },
          "execution_count": 448
        }
      ]
    },
    {
      "cell_type": "code",
      "metadata": {
        "id": "MiFs34-x4J0s",
        "colab_type": "code",
        "outputId": "5bba5a3b-9466-46cd-82b5-a0f7ca23dffd",
        "colab": {
          "base_uri": "https://localhost:8080/",
          "height": 123
        }
      },
      "source": [
        "test['Revenue']=np.where(test['Stage'] =='Won',test['net amount'] ,0.0)"
      ],
      "execution_count": 449,
      "outputs": [
        {
          "output_type": "stream",
          "text": [
            "/usr/local/lib/python3.6/dist-packages/ipykernel_launcher.py:1: SettingWithCopyWarning: \n",
            "A value is trying to be set on a copy of a slice from a DataFrame.\n",
            "Try using .loc[row_indexer,col_indexer] = value instead\n",
            "\n",
            "See the caveats in the documentation: https://pandas.pydata.org/pandas-docs/stable/user_guide/indexing.html#returning-a-view-versus-a-copy\n",
            "  \"\"\"Entry point for launching an IPython kernel.\n"
          ],
          "name": "stderr"
        }
      ]
    },
    {
      "cell_type": "code",
      "metadata": {
        "id": "Xc7K85ju4A4x",
        "colab_type": "code",
        "colab": {}
      },
      "source": [
        "dff=test[['Type','Stage','discount','optimal discount','Revenue','Optimized Revenue']]\n",
        "stat = round(dff.groupby('Type').mean(),2)"
      ],
      "execution_count": 0,
      "outputs": []
    },
    {
      "cell_type": "code",
      "metadata": {
        "id": "AAZzS8LX4hDl",
        "colab_type": "code",
        "outputId": "2c3ed98c-0e1d-42e5-ad3f-accb6df8a39e",
        "colab": {
          "base_uri": "https://localhost:8080/",
          "height": 197
        }
      },
      "source": [
        "#the ratio of the optimized expected revenue / actual revenues\n",
        "stat['ratio'] = stat['Optimized Revenue']/stat['Revenue']\n",
        "stat\n",
        "#print(stat.to_string())"
      ],
      "execution_count": 451,
      "outputs": [
        {
          "output_type": "execute_result",
          "data": {
            "text/html": [
              "<div>\n",
              "<style scoped>\n",
              "    .dataframe tbody tr th:only-of-type {\n",
              "        vertical-align: middle;\n",
              "    }\n",
              "\n",
              "    .dataframe tbody tr th {\n",
              "        vertical-align: top;\n",
              "    }\n",
              "\n",
              "    .dataframe thead th {\n",
              "        text-align: right;\n",
              "    }\n",
              "</style>\n",
              "<table border=\"1\" class=\"dataframe\">\n",
              "  <thead>\n",
              "    <tr style=\"text-align: right;\">\n",
              "      <th></th>\n",
              "      <th>discount</th>\n",
              "      <th>optimal discount</th>\n",
              "      <th>Revenue</th>\n",
              "      <th>Optimized Revenue</th>\n",
              "      <th>ratio</th>\n",
              "    </tr>\n",
              "    <tr>\n",
              "      <th>Type</th>\n",
              "      <th></th>\n",
              "      <th></th>\n",
              "      <th></th>\n",
              "      <th></th>\n",
              "      <th></th>\n",
              "    </tr>\n",
              "  </thead>\n",
              "  <tbody>\n",
              "    <tr>\n",
              "      <th>Direct - Cloud Product</th>\n",
              "      <td>12471.76</td>\n",
              "      <td>22118.00</td>\n",
              "      <td>9029.41</td>\n",
              "      <td>24332.93</td>\n",
              "      <td>2.694853</td>\n",
              "    </tr>\n",
              "    <tr>\n",
              "      <th>Direct - OnPremise Product</th>\n",
              "      <td>2937.01</td>\n",
              "      <td>8453.22</td>\n",
              "      <td>4851.02</td>\n",
              "      <td>8067.76</td>\n",
              "      <td>1.663106</td>\n",
              "    </tr>\n",
              "    <tr>\n",
              "      <th>Partner - Cloud Product</th>\n",
              "      <td>52629.22</td>\n",
              "      <td>32126.23</td>\n",
              "      <td>58460.92</td>\n",
              "      <td>90747.89</td>\n",
              "      <td>1.552283</td>\n",
              "    </tr>\n",
              "    <tr>\n",
              "      <th>Partner - OnPremise Product</th>\n",
              "      <td>10492.98</td>\n",
              "      <td>11950.59</td>\n",
              "      <td>15357.20</td>\n",
              "      <td>24114.16</td>\n",
              "      <td>1.570219</td>\n",
              "    </tr>\n",
              "  </tbody>\n",
              "</table>\n",
              "</div>"
            ],
            "text/plain": [
              "                             discount  ...     ratio\n",
              "Type                                   ...          \n",
              "Direct - Cloud Product       12471.76  ...  2.694853\n",
              "Direct - OnPremise Product    2937.01  ...  1.663106\n",
              "Partner - Cloud Product      52629.22  ...  1.552283\n",
              "Partner - OnPremise Product  10492.98  ...  1.570219\n",
              "\n",
              "[4 rows x 5 columns]"
            ]
          },
          "metadata": {
            "tags": []
          },
          "execution_count": 451
        }
      ]
    },
    {
      "cell_type": "code",
      "metadata": {
        "id": "oRv0TsqZ72_e",
        "colab_type": "code",
        "outputId": "75de1858-8025-48d2-d7ce-837443cc80f6",
        "colab": {
          "base_uri": "https://localhost:8080/",
          "height": 70
        }
      },
      "source": [
        "print(\"Actual Total Revenue: \", test['Revenue'].sum())\n",
        "print(\"Optimized Total Revnue: \", test['Optimized Revenue'].sum())\n",
        "print(\"Ratio: \", test['Optimized Revenue'].sum()/test['Revenue'].sum())"
      ],
      "execution_count": 452,
      "outputs": [
        {
          "output_type": "stream",
          "text": [
            "Actual Total Revenue:  4883527.0\n",
            "Optimized Total Revnue:  7879923.169463238\n",
            "Ratio:  1.613572151738536\n"
          ],
          "name": "stdout"
        }
      ]
    },
    {
      "cell_type": "markdown",
      "metadata": {
        "id": "7hMPx5MiHcIL",
        "colab_type": "text"
      },
      "source": [
        "# A Function of the Whole Process"
      ]
    },
    {
      "cell_type": "code",
      "metadata": {
        "id": "te34d6m7HZwv",
        "colab_type": "code",
        "colab": {}
      },
      "source": [
        "def Optimization(X_train, y_train, X_test, y_test, test):\n",
        "  #### Regression to predict conversion rate\n",
        "  logreg=sm.Logit(y_train, X_train, missing='drop').fit()\n",
        "  y_prob = logreg.predict(X_test)\n",
        "  y_label = [ 0.0 if x < 0.5 else 1.0 for x in y_prob]\n",
        "  #print(\"Regression Performance\")\n",
        "  #print(logreg.summary())\n",
        "  #print('\\n')\n",
        "\n",
        "\n",
        "  #### Price Optimization\n",
        "  ID=0\n",
        "  ID_max=len(X_test)\n",
        "  z=np.empty([ID_max,])\n",
        "  while ID<=ID_max-1:\n",
        "    UT=np.matmul(X_test.iloc[ID,1:],logreg.params[1:])\n",
        "    b=logreg.params[0]\n",
        "    p=X_test.iloc[ID,1]\n",
        "    def revenueD(d):\n",
        "      \"\"\"This is the negative revenue function\"\"\"\n",
        "      return -np.exp(UT+b*np.sqrt(d**2))/(1+np.exp(UT+b*np.sqrt(d**2)))*(p-np.sqrt(d**2))\n",
        "    sol3=minimize_scalar(revenueD)\n",
        "    z[ID]=sol3.x\n",
        "    ID=ID+1\n",
        "  #print(\"Price Optimization\")\n",
        "  print(\"Optimized mean discount: \", round(np.mean(z),0), \"Actual mean discount: \", np.round(np.mean(X_test['discount']),0))\n",
        "  #print('\\n')\n",
        "  #test['optimal discount']=np.sqrt(z**2)\n",
        "  #return test\n",
        "\n",
        "  xS = X_test.copy().rename(columns={'discount':'optimal discount'})\n",
        "  xS['optimal discount'] = np.sqrt(z**2)\n",
        "  test['optimal discount']=np.sqrt(z**2)\n",
        "\n",
        "# Get the optimized revenue for each individual user\n",
        "  ID=0\n",
        "  ID_max=len(X_test)\n",
        "  revOpt=np.empty([ID_max,])\n",
        "  while ID<=ID_max-1:\n",
        "    u=np.dot(xS.iloc[ID],logreg.params)\n",
        "    proba=np.exp(u)/(1+np.exp(u))\n",
        "    revOpt[ID]=proba*(xS['amount'].array[ID]-z[ID])\n",
        "    ID=ID+1\n",
        "  revOpt=np.nan_to_num(revOpt)\n",
        "  test['Optimized Revenue']=revOpt\n",
        "  dff=test[['Type','Stage','discount','optimal discount','Revenue','Optimized Revenue']]\n",
        "\n",
        "  dff.groupby('Type').mean()\n",
        "  stat = round(dff.groupby('Type').mean(),2)\n",
        "  stat\n",
        "\n",
        "  #### the ratio of the optimized expected revenue / actual revenues\n",
        "  stat['ratio'] = stat['Optimized Revenue']/stat['Revenue']\n",
        "  print(stat.to_string())\n",
        "  print('\\n')\n",
        "\n",
        "  print(\"Actual Total Revenue: \", test['Revenue'].sum())\n",
        "  print(\"Optimized Total Revnue: \", test['Optimized Revenue'].sum())\n",
        "  print(\"Ratio: \", test['Optimized Revenue'].sum()/test['Revenue'].sum())\n",
        "  print('\\n')\n",
        "\n"
      ],
      "execution_count": 0,
      "outputs": []
    },
    {
      "cell_type": "markdown",
      "metadata": {
        "id": "MwExRvZ6JWB8",
        "colab_type": "text"
      },
      "source": [
        "# Compare results with classification"
      ]
    },
    {
      "cell_type": "markdown",
      "metadata": {
        "id": "2syTrqChJPn9",
        "colab_type": "text"
      },
      "source": [
        "## Regress on Whole Dataset (Same as above)"
      ]
    },
    {
      "cell_type": "code",
      "metadata": {
        "id": "-NWLOOuwyXbc",
        "colab_type": "code",
        "colab": {}
      },
      "source": [
        "data['Revenue']=np.where(data['Stage'] =='Won',data['net amount'] ,0.0)\n",
        "data['Partner vs. Direct']=np.where(data['Partner vs. Direct'] =='Partner',1.0 ,0.0)\n",
        "data['Cloud vs. On-Prem']=np.where(data['Cloud vs. On-Prem'] =='Cloud',1.0 ,0.0)"
      ],
      "execution_count": 0,
      "outputs": []
    },
    {
      "cell_type": "code",
      "metadata": {
        "id": "PQGpjNEyIJJm",
        "colab_type": "code",
        "outputId": "ce343293-d15a-43c1-c947-711fd96eba46",
        "colab": {
          "base_uri": "https://localhost:8080/",
          "height": 496
        }
      },
      "source": [
        "train1 = data[data['ID'] <=1200]\n",
        "test1 = data[data['ID'] > 1200]\n",
        "X_train1 = train1[['discount','amount','New Logo','Partner cloud','Partner prem','Direct cloud','Direct prem']]\n",
        "y_train1 = train1['y']\n",
        "X_test1 = test1[['discount','amount','New Logo','Partner cloud','Partner prem','Direct cloud','Direct prem']]\n",
        "y_test1 = test1['y']\n",
        "Optimization(X_train1, y_train1, X_test1, y_test1, test1)"
      ],
      "execution_count": 456,
      "outputs": [
        {
          "output_type": "stream",
          "text": [
            "Optimization terminated successfully.\n",
            "         Current function value: 0.445041\n",
            "         Iterations 8\n",
            "Optimized mean discount:  13557.0 Actual mean discount:  12685.0\n",
            "                             discount  optimal discount   Revenue  Optimized Revenue     ratio\n",
            "Type                                                                                          \n",
            "Direct - Cloud Product       12471.76          22118.00   9029.41           24332.93  2.694853\n",
            "Direct - OnPremise Product    2937.01           8453.22   4851.02            8067.76  1.663106\n",
            "Partner - Cloud Product      52629.22          32126.23  58460.92           90747.89  1.552283\n",
            "Partner - OnPremise Product  10492.98          11950.59  15357.20           24114.16  1.570219\n",
            "\n",
            "\n",
            "Actual Total Revenue:  4883527.0\n",
            "Optimized Total Revnue:  7879923.169463238\n",
            "Ratio:  1.613572151738536\n",
            "\n",
            "\n"
          ],
          "name": "stdout"
        },
        {
          "output_type": "stream",
          "text": [
            "/usr/local/lib/python3.6/dist-packages/ipykernel_launcher.py:33: SettingWithCopyWarning: \n",
            "A value is trying to be set on a copy of a slice from a DataFrame.\n",
            "Try using .loc[row_indexer,col_indexer] = value instead\n",
            "\n",
            "See the caveats in the documentation: https://pandas.pydata.org/pandas-docs/stable/user_guide/indexing.html#returning-a-view-versus-a-copy\n",
            "/usr/local/lib/python3.6/dist-packages/ipykernel_launcher.py:45: SettingWithCopyWarning: \n",
            "A value is trying to be set on a copy of a slice from a DataFrame.\n",
            "Try using .loc[row_indexer,col_indexer] = value instead\n",
            "\n",
            "See the caveats in the documentation: https://pandas.pydata.org/pandas-docs/stable/user_guide/indexing.html#returning-a-view-versus-a-copy\n"
          ],
          "name": "stderr"
        }
      ]
    },
    {
      "cell_type": "markdown",
      "metadata": {
        "id": "V_fEqLaILcko",
        "colab_type": "text"
      },
      "source": [
        "When we regress on the whole dateset, the total revenue would increase by 161.36%"
      ]
    },
    {
      "cell_type": "markdown",
      "metadata": {
        "id": "4qT5JHDVKtLl",
        "colab_type": "text"
      },
      "source": [
        "## Regress on Partner vs Direct"
      ]
    },
    {
      "cell_type": "code",
      "metadata": {
        "id": "FywbiLeCKs3b",
        "colab_type": "code",
        "outputId": "acf2fac4-2ade-4841-de84-5ac0ab45fc17",
        "colab": {
          "base_uri": "https://localhost:8080/",
          "height": 461
        }
      },
      "source": [
        "# Partner\n",
        "train_partner = data[(data['ID'] <=1200) & (data['Partner vs. Direct']==1)]\n",
        "test_partner = data[(data['ID'] > 1200) & (data['Partner vs. Direct']==1)]\n",
        "X_train = train_partner[['discount','amount','New Logo','Cloud vs. On-Prem']]\n",
        "y_train = train_partner['y']\n",
        "X_test = test_partner[['discount','amount','New Logo','Cloud vs. On-Prem']]\n",
        "y_test = test_partner['y']\n",
        "Optimization(X_train, y_train, X_test, y_test, test_partner)"
      ],
      "execution_count": 457,
      "outputs": [
        {
          "output_type": "stream",
          "text": [
            "Optimization terminated successfully.\n",
            "         Current function value: 0.540239\n",
            "         Iterations 8\n",
            "Optimized mean discount:  17473.0 Actual mean discount:  19416.0\n",
            "                             discount  optimal discount   Revenue  Optimized Revenue     ratio\n",
            "Type                                                                                          \n",
            "Partner - Cloud Product      52629.22          41542.95  58460.92           85213.19  1.457609\n",
            "Partner - OnPremise Product  10492.98          11054.57  15357.20           29065.33  1.892619\n",
            "\n",
            "\n",
            "Actual Total Revenue:  4162458.0\n",
            "Optimized Total Revnue:  6991494.538545401\n",
            "Ratio:  1.6796552754515244\n",
            "\n",
            "\n"
          ],
          "name": "stdout"
        },
        {
          "output_type": "stream",
          "text": [
            "/usr/local/lib/python3.6/dist-packages/ipykernel_launcher.py:33: SettingWithCopyWarning: \n",
            "A value is trying to be set on a copy of a slice from a DataFrame.\n",
            "Try using .loc[row_indexer,col_indexer] = value instead\n",
            "\n",
            "See the caveats in the documentation: https://pandas.pydata.org/pandas-docs/stable/user_guide/indexing.html#returning-a-view-versus-a-copy\n",
            "/usr/local/lib/python3.6/dist-packages/ipykernel_launcher.py:45: SettingWithCopyWarning: \n",
            "A value is trying to be set on a copy of a slice from a DataFrame.\n",
            "Try using .loc[row_indexer,col_indexer] = value instead\n",
            "\n",
            "See the caveats in the documentation: https://pandas.pydata.org/pandas-docs/stable/user_guide/indexing.html#returning-a-view-versus-a-copy\n"
          ],
          "name": "stderr"
        }
      ]
    },
    {
      "cell_type": "code",
      "metadata": {
        "id": "iOrnkcgAMKqi",
        "colab_type": "code",
        "outputId": "5b3a0eea-59ec-4a73-8c0b-045a017b0840",
        "colab": {
          "base_uri": "https://localhost:8080/",
          "height": 461
        }
      },
      "source": [
        "# direct\n",
        "train_direct = data[(data['ID'] <=1200) & (data['Partner vs. Direct']==0)]\n",
        "test_direct = data[(data['ID'] > 1200) & (data['Partner vs. Direct']==0)]\n",
        "X_train = train_direct[['discount','amount','New Logo','Cloud vs. On-Prem']]\n",
        "y_train = train_direct['y']\n",
        "X_test = test_direct[['discount','amount','New Logo','Cloud vs. On-Prem']]\n",
        "y_test = test_direct['y']\n",
        "Optimization(X_train, y_train, X_test, y_test, test_direct)"
      ],
      "execution_count": 458,
      "outputs": [
        {
          "output_type": "stream",
          "text": [
            "Optimization terminated successfully.\n",
            "         Current function value: 0.514679\n",
            "         Iterations 7\n",
            "Optimized mean discount:  11686.0 Actual mean discount:  4147.0\n",
            "                            discount  optimal discount  Revenue  Optimized Revenue     ratio\n",
            "Type                                                                                        \n",
            "Direct - Cloud Product      12471.76          26237.65  9029.41           27043.08  2.995000\n",
            "Direct - OnPremise Product   2937.01           9571.18  4851.02           13478.52  2.778492\n",
            "\n",
            "\n",
            "Actual Total Revenue:  721069.0\n",
            "Optimized Total Revnue:  2036718.7359265918\n",
            "Ratio:  2.8245823020079794\n",
            "\n",
            "\n"
          ],
          "name": "stdout"
        },
        {
          "output_type": "stream",
          "text": [
            "/usr/local/lib/python3.6/dist-packages/ipykernel_launcher.py:33: SettingWithCopyWarning: \n",
            "A value is trying to be set on a copy of a slice from a DataFrame.\n",
            "Try using .loc[row_indexer,col_indexer] = value instead\n",
            "\n",
            "See the caveats in the documentation: https://pandas.pydata.org/pandas-docs/stable/user_guide/indexing.html#returning-a-view-versus-a-copy\n",
            "/usr/local/lib/python3.6/dist-packages/ipykernel_launcher.py:45: SettingWithCopyWarning: \n",
            "A value is trying to be set on a copy of a slice from a DataFrame.\n",
            "Try using .loc[row_indexer,col_indexer] = value instead\n",
            "\n",
            "See the caveats in the documentation: https://pandas.pydata.org/pandas-docs/stable/user_guide/indexing.html#returning-a-view-versus-a-copy\n"
          ],
          "name": "stderr"
        }
      ]
    },
    {
      "cell_type": "code",
      "metadata": {
        "id": "joa7ZBjlKJBq",
        "colab_type": "code",
        "outputId": "d832ee37-b8ab-4cc5-fcd2-9cb3eb778bfe",
        "colab": {
          "base_uri": "https://localhost:8080/",
          "height": 34
        }
      },
      "source": [
        "partner_opt = 6991494.538545401\n",
        "direct_opt = 2036718.7359265918\n",
        "actual_total = 4883527.0\n",
        "ratio = round((partner_opt+direct_opt)/actual_total*100, 2)\n",
        "\n",
        "print(\"When we regress seperately on Partner vs. Direct, then total revenue would increase by\", ratio,\"%\")"
      ],
      "execution_count": 459,
      "outputs": [
        {
          "output_type": "stream",
          "text": [
            "When we regress seperately on Partner vs. Direct, then total revenue would increase by 184.87 %\n"
          ],
          "name": "stdout"
        }
      ]
    },
    {
      "cell_type": "markdown",
      "metadata": {
        "colab_type": "text",
        "id": "9txsctkSLjTl"
      },
      "source": [
        "## Regress on Cloud vs OnPrem"
      ]
    },
    {
      "cell_type": "code",
      "metadata": {
        "colab_type": "code",
        "outputId": "461df1fb-3fb3-4e29-80bb-87e13746cc40",
        "id": "lrE1IUZsLjT2",
        "colab": {
          "base_uri": "https://localhost:8080/",
          "height": 461
        }
      },
      "source": [
        "# Cloud\n",
        "train_cloud = data[(data['ID'] <=1200) & (data['Cloud vs. On-Prem']==1)]\n",
        "test_cloud = data[(data['ID'] > 1200) & (data['Cloud vs. On-Prem']==1)]\n",
        "X_train = train_cloud[['discount','amount','New Logo','Partner vs. Direct']]\n",
        "y_train = train_cloud['y']\n",
        "X_test = test_cloud[['discount','amount','New Logo','Partner vs. Direct']]\n",
        "y_test = test_cloud['y']\n",
        "Optimization(X_train, y_train, X_test, y_test, test_cloud)"
      ],
      "execution_count": 460,
      "outputs": [
        {
          "output_type": "stream",
          "text": [
            "Optimization terminated successfully.\n",
            "         Current function value: 0.486277\n",
            "         Iterations 7\n",
            "Optimized mean discount:  34521.0 Actual mean discount:  39749.0\n",
            "                         discount  optimal discount   Revenue  Optimized Revenue     ratio\n",
            "Type                                                                                      \n",
            "Direct - Cloud Product   12471.76          14096.65   9029.41           35214.41  3.899968\n",
            "Partner - Cloud Product  52629.22          44166.12  58460.92           77973.57  1.333773\n",
            "\n",
            "\n",
            "Actual Total Revenue:  2258093.0\n",
            "Optimized Total Revnue:  3405693.710553274\n",
            "Ratio:  1.5082167610250217\n",
            "\n",
            "\n"
          ],
          "name": "stdout"
        },
        {
          "output_type": "stream",
          "text": [
            "/usr/local/lib/python3.6/dist-packages/ipykernel_launcher.py:33: SettingWithCopyWarning: \n",
            "A value is trying to be set on a copy of a slice from a DataFrame.\n",
            "Try using .loc[row_indexer,col_indexer] = value instead\n",
            "\n",
            "See the caveats in the documentation: https://pandas.pydata.org/pandas-docs/stable/user_guide/indexing.html#returning-a-view-versus-a-copy\n",
            "/usr/local/lib/python3.6/dist-packages/ipykernel_launcher.py:45: SettingWithCopyWarning: \n",
            "A value is trying to be set on a copy of a slice from a DataFrame.\n",
            "Try using .loc[row_indexer,col_indexer] = value instead\n",
            "\n",
            "See the caveats in the documentation: https://pandas.pydata.org/pandas-docs/stable/user_guide/indexing.html#returning-a-view-versus-a-copy\n"
          ],
          "name": "stderr"
        }
      ]
    },
    {
      "cell_type": "code",
      "metadata": {
        "colab_type": "code",
        "outputId": "3de9b5f0-960f-4c97-e716-88a84ad52fa3",
        "id": "xx5AampKLjUA",
        "colab": {
          "base_uri": "https://localhost:8080/",
          "height": 461
        }
      },
      "source": [
        "# On Prem\n",
        "train_onprem = data[(data['ID'] <=1200) & (data['Cloud vs. On-Prem']==0)]\n",
        "test_onprem = data[(data['ID'] > 1200) & (data['Cloud vs. On-Prem']==0)]\n",
        "X_train = train_onprem[['discount','amount','New Logo','Partner vs. Direct']]\n",
        "y_train = train_onprem['y']\n",
        "X_test = test_onprem[['discount','amount','New Logo','Partner vs. Direct']]\n",
        "y_test = test_onprem['y']\n",
        "Optimization(X_train, y_train, X_test, y_test, test_onprem)"
      ],
      "execution_count": 461,
      "outputs": [
        {
          "output_type": "stream",
          "text": [
            "Optimization terminated successfully.\n",
            "         Current function value: 0.527746\n",
            "         Iterations 8\n",
            "Optimized mean discount:  10411.0 Actual mean discount:  6971.0\n",
            "                             discount  optimal discount   Revenue  Optimized Revenue     ratio\n",
            "Type                                                                                          \n",
            "Direct - OnPremise Product    2937.01           4803.09   4851.02           19217.03  3.961441\n",
            "Partner - OnPremise Product  10492.98          15270.98  15357.20           27321.58  1.779073\n",
            "\n",
            "\n",
            "Actual Total Revenue:  2625434.0\n",
            "Optimized Total Revnue:  5936804.896278892\n",
            "Ratio:  2.2612660978256898\n",
            "\n",
            "\n"
          ],
          "name": "stdout"
        },
        {
          "output_type": "stream",
          "text": [
            "/usr/local/lib/python3.6/dist-packages/ipykernel_launcher.py:33: SettingWithCopyWarning: \n",
            "A value is trying to be set on a copy of a slice from a DataFrame.\n",
            "Try using .loc[row_indexer,col_indexer] = value instead\n",
            "\n",
            "See the caveats in the documentation: https://pandas.pydata.org/pandas-docs/stable/user_guide/indexing.html#returning-a-view-versus-a-copy\n",
            "/usr/local/lib/python3.6/dist-packages/ipykernel_launcher.py:45: SettingWithCopyWarning: \n",
            "A value is trying to be set on a copy of a slice from a DataFrame.\n",
            "Try using .loc[row_indexer,col_indexer] = value instead\n",
            "\n",
            "See the caveats in the documentation: https://pandas.pydata.org/pandas-docs/stable/user_guide/indexing.html#returning-a-view-versus-a-copy\n"
          ],
          "name": "stderr"
        }
      ]
    },
    {
      "cell_type": "code",
      "metadata": {
        "colab_type": "code",
        "outputId": "6ef57148-6af7-40d0-ac8c-6012006fe080",
        "id": "CvxWAwijLjUJ",
        "colab": {
          "base_uri": "https://localhost:8080/",
          "height": 34
        }
      },
      "source": [
        "cloud_opt = 3405693.710553274\n",
        "onprem_opt = 5936804.896278892\n",
        "actual_total = 4883527.0\n",
        "ratio = round((cloud_opt+onprem_opt)/actual_total*100, 2)\n",
        "\n",
        "print(\"When we regress seperately on Cloud vs. OnPrem, the total revenue would increase by\", ratio,\"%\")"
      ],
      "execution_count": 462,
      "outputs": [
        {
          "output_type": "stream",
          "text": [
            "When we regress seperately on Cloud vs. OnPrem, the total revenue would increase by 191.31 %\n"
          ],
          "name": "stdout"
        }
      ]
    },
    {
      "cell_type": "markdown",
      "metadata": {
        "colab_type": "text",
        "id": "nVwdLrZeMgTM"
      },
      "source": [
        "## Regress on New Logo or vs. Old Logo"
      ]
    },
    {
      "cell_type": "code",
      "metadata": {
        "colab_type": "code",
        "outputId": "88488063-b1c2-4611-b450-a64e58e23369",
        "id": "tUseVqf0MgTS",
        "colab": {
          "base_uri": "https://localhost:8080/",
          "height": 496
        }
      },
      "source": [
        "# New\n",
        "train_new = data[(data['ID'] <=1200) & (data['New Logo']==1)]\n",
        "test_new = data[(data['ID'] > 1200) & (data['New Logo']==1)]\n",
        "X_train = train_new[['discount','amount','Cloud vs. On-Prem','Partner vs. Direct']]\n",
        "y_train = train_new['y']\n",
        "X_test = test_new[['discount','amount','Cloud vs. On-Prem','Partner vs. Direct']]\n",
        "y_test = test_new['y']\n",
        "Optimization(X_train, y_train, X_test, y_test, test_new)"
      ],
      "execution_count": 464,
      "outputs": [
        {
          "output_type": "stream",
          "text": [
            "Optimization terminated successfully.\n",
            "         Current function value: 0.549035\n",
            "         Iterations 8\n",
            "Optimized mean discount:  11349.0 Actual mean discount:  22537.0\n",
            "                             discount  optimal discount   Revenue  Optimized Revenue     ratio\n",
            "Type                                                                                          \n",
            "Direct - Cloud Product       15126.67          18060.18  12791.67           31500.38  2.462570\n",
            "Direct - OnPremise Product    5390.66           2222.17  10075.29           18255.82  1.811940\n",
            "Partner - Cloud Product      60540.57          27862.75  70153.10          106523.06  1.518437\n",
            "Partner - OnPremise Product  14033.19           6574.83  31555.53           35966.60  1.139788\n",
            "\n",
            "\n",
            "Actual Total Revenue:  4124064.0\n",
            "Optimized Total Revnue:  5993814.421222595\n",
            "Ratio:  1.453375704456234\n",
            "\n",
            "\n"
          ],
          "name": "stdout"
        },
        {
          "output_type": "stream",
          "text": [
            "/usr/local/lib/python3.6/dist-packages/ipykernel_launcher.py:33: SettingWithCopyWarning: \n",
            "A value is trying to be set on a copy of a slice from a DataFrame.\n",
            "Try using .loc[row_indexer,col_indexer] = value instead\n",
            "\n",
            "See the caveats in the documentation: https://pandas.pydata.org/pandas-docs/stable/user_guide/indexing.html#returning-a-view-versus-a-copy\n",
            "/usr/local/lib/python3.6/dist-packages/ipykernel_launcher.py:45: SettingWithCopyWarning: \n",
            "A value is trying to be set on a copy of a slice from a DataFrame.\n",
            "Try using .loc[row_indexer,col_indexer] = value instead\n",
            "\n",
            "See the caveats in the documentation: https://pandas.pydata.org/pandas-docs/stable/user_guide/indexing.html#returning-a-view-versus-a-copy\n"
          ],
          "name": "stderr"
        }
      ]
    },
    {
      "cell_type": "code",
      "metadata": {
        "colab_type": "code",
        "outputId": "0825885d-49cd-4375-b679-84a09f80a7e8",
        "id": "NYzpQvRZMgTh",
        "colab": {
          "base_uri": "https://localhost:8080/",
          "height": 532
        }
      },
      "source": [
        "# Old\n",
        "train_old = data[(data['ID'] <=1200) & (data['New Logo']==0)]\n",
        "test_old = data[(data['ID'] > 1200) & (data['New Logo']==0)]\n",
        "X_train = train_old[['discount','amount','Cloud vs. On-Prem','Partner vs. Direct']]\n",
        "y_train = train_old['y']\n",
        "X_test = test_old[['discount','amount','Cloud vs. On-Prem','Partner vs. Direct']]\n",
        "y_test = test_old['y']\n",
        "Optimization(X_train, y_train, X_test, y_test, test_old)"
      ],
      "execution_count": 465,
      "outputs": [
        {
          "output_type": "stream",
          "text": [
            "Warning: Maximum number of iterations has been exceeded.\n",
            "         Current function value: 0.337084\n",
            "         Iterations: 35\n"
          ],
          "name": "stdout"
        },
        {
          "output_type": "stream",
          "text": [
            "/usr/local/lib/python3.6/dist-packages/statsmodels/base/model.py:512: ConvergenceWarning: Maximum Likelihood optimization failed to converge. Check mle_retvals\n",
            "  \"Check mle_retvals\", ConvergenceWarning)\n"
          ],
          "name": "stderr"
        },
        {
          "output_type": "stream",
          "text": [
            "Optimized mean discount:  18986.0 Actual mean discount:  5617.0\n",
            "                             discount  optimal discount  Revenue  Optimized Revenue     ratio\n",
            "Type                                                                                         \n",
            "Direct - Cloud Product        6100.00          49289.39     0.00               0.00       NaN\n",
            "Direct - OnPremise Product    1756.77          13092.97  2338.08           14097.88  6.029682\n",
            "Partner - Cloud Product      13072.50          67255.06     0.00               0.00       NaN\n",
            "Partner - OnPremise Product   8580.45          19266.43  6606.38           24489.97  3.707018\n",
            "\n",
            "\n",
            "Actual Total Revenue:  759463.0\n",
            "Optimized Total Revnue:  3244360.0631856825\n",
            "Ratio:  4.271913263958458\n",
            "\n",
            "\n"
          ],
          "name": "stdout"
        },
        {
          "output_type": "stream",
          "text": [
            "/usr/local/lib/python3.6/dist-packages/ipykernel_launcher.py:33: SettingWithCopyWarning: \n",
            "A value is trying to be set on a copy of a slice from a DataFrame.\n",
            "Try using .loc[row_indexer,col_indexer] = value instead\n",
            "\n",
            "See the caveats in the documentation: https://pandas.pydata.org/pandas-docs/stable/user_guide/indexing.html#returning-a-view-versus-a-copy\n",
            "/usr/local/lib/python3.6/dist-packages/ipykernel_launcher.py:45: SettingWithCopyWarning: \n",
            "A value is trying to be set on a copy of a slice from a DataFrame.\n",
            "Try using .loc[row_indexer,col_indexer] = value instead\n",
            "\n",
            "See the caveats in the documentation: https://pandas.pydata.org/pandas-docs/stable/user_guide/indexing.html#returning-a-view-versus-a-copy\n"
          ],
          "name": "stderr"
        }
      ]
    },
    {
      "cell_type": "code",
      "metadata": {
        "colab_type": "code",
        "outputId": "20bce12c-fb83-420b-fb47-810fd696e408",
        "id": "9Y_VkqBVMgTq",
        "colab": {
          "base_uri": "https://localhost:8080/",
          "height": 34
        }
      },
      "source": [
        "new_opt = 5993814.421222594\n",
        "old_opt = 3244360.0631856835\n",
        "actual_total = 4883527.0\n",
        "ratio = round((new_opt+old_opt)/actual_total*100, 2)\n",
        "\n",
        "print(\"When we regress seperately on New Logo vs. Old Logo, the total revenue would increase by\", ratio,\"%\")"
      ],
      "execution_count": 466,
      "outputs": [
        {
          "output_type": "stream",
          "text": [
            "When we regress seperately on New Logo vs. Old Logo, the total revenue would increase by 189.17 %\n"
          ],
          "name": "stdout"
        }
      ]
    }
  ]
}
